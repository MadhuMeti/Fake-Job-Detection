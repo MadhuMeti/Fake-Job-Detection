{
 "cells": [
  {
   "cell_type": "code",
   "execution_count": 9,
   "metadata": {
    "id": "1rxNtmo65g_a",
    "outputId": "14450edd-42e8-4777-d8de-e156b145ebf6"
   },
   "outputs": [],
   "source": [
    "import numpy as np\n",
    "import pandas as pd\n",
    "import seaborn as sns\n",
    "from sklearn import preprocessing\n",
    "import matplotlib.pyplot as plt"
   ]
  },
  {
   "cell_type": "code",
   "execution_count": 10,
   "metadata": {
    "id": "aNiqbDFs5g_f"
   },
   "outputs": [
    {
     "ename": "UnicodeError",
     "evalue": "UTF-16 stream does not start with BOM",
     "output_type": "error",
     "traceback": [
      "\u001b[1;31m---------------------------------------------------------------------------\u001b[0m",
      "\u001b[1;31mUnicodeError\u001b[0m                              Traceback (most recent call last)",
      "Input \u001b[1;32mIn [10]\u001b[0m, in \u001b[0;36m<cell line: 1>\u001b[1;34m()\u001b[0m\n\u001b[1;32m----> 1\u001b[0m data\u001b[38;5;241m=\u001b[39m\u001b[43mpd\u001b[49m\u001b[38;5;241;43m.\u001b[39;49m\u001b[43mread_csv\u001b[49m\u001b[43m(\u001b[49m\u001b[38;5;124;43m'\u001b[39;49m\u001b[38;5;124;43mfake_job_postings.csv\u001b[39;49m\u001b[38;5;124;43m'\u001b[39;49m\u001b[43m,\u001b[49m\u001b[43mencoding\u001b[49m\u001b[38;5;241;43m=\u001b[39;49m\u001b[38;5;124;43m'\u001b[39;49m\u001b[38;5;124;43mutf-16\u001b[39;49m\u001b[38;5;124;43m'\u001b[39;49m\u001b[43m)\u001b[49m\n",
      "File \u001b[1;32m~\\anaconda3\\lib\\site-packages\\pandas\\util\\_decorators.py:311\u001b[0m, in \u001b[0;36mdeprecate_nonkeyword_arguments.<locals>.decorate.<locals>.wrapper\u001b[1;34m(*args, **kwargs)\u001b[0m\n\u001b[0;32m    305\u001b[0m \u001b[38;5;28;01mif\u001b[39;00m \u001b[38;5;28mlen\u001b[39m(args) \u001b[38;5;241m>\u001b[39m num_allow_args:\n\u001b[0;32m    306\u001b[0m     warnings\u001b[38;5;241m.\u001b[39mwarn(\n\u001b[0;32m    307\u001b[0m         msg\u001b[38;5;241m.\u001b[39mformat(arguments\u001b[38;5;241m=\u001b[39marguments),\n\u001b[0;32m    308\u001b[0m         \u001b[38;5;167;01mFutureWarning\u001b[39;00m,\n\u001b[0;32m    309\u001b[0m         stacklevel\u001b[38;5;241m=\u001b[39mstacklevel,\n\u001b[0;32m    310\u001b[0m     )\n\u001b[1;32m--> 311\u001b[0m \u001b[38;5;28;01mreturn\u001b[39;00m func(\u001b[38;5;241m*\u001b[39margs, \u001b[38;5;241m*\u001b[39m\u001b[38;5;241m*\u001b[39mkwargs)\n",
      "File \u001b[1;32m~\\anaconda3\\lib\\site-packages\\pandas\\io\\parsers\\readers.py:678\u001b[0m, in \u001b[0;36mread_csv\u001b[1;34m(filepath_or_buffer, sep, delimiter, header, names, index_col, usecols, squeeze, prefix, mangle_dupe_cols, dtype, engine, converters, true_values, false_values, skipinitialspace, skiprows, skipfooter, nrows, na_values, keep_default_na, na_filter, verbose, skip_blank_lines, parse_dates, infer_datetime_format, keep_date_col, date_parser, dayfirst, cache_dates, iterator, chunksize, compression, thousands, decimal, lineterminator, quotechar, quoting, doublequote, escapechar, comment, encoding, encoding_errors, dialect, error_bad_lines, warn_bad_lines, on_bad_lines, delim_whitespace, low_memory, memory_map, float_precision, storage_options)\u001b[0m\n\u001b[0;32m    663\u001b[0m kwds_defaults \u001b[38;5;241m=\u001b[39m _refine_defaults_read(\n\u001b[0;32m    664\u001b[0m     dialect,\n\u001b[0;32m    665\u001b[0m     delimiter,\n\u001b[1;32m   (...)\u001b[0m\n\u001b[0;32m    674\u001b[0m     defaults\u001b[38;5;241m=\u001b[39m{\u001b[38;5;124m\"\u001b[39m\u001b[38;5;124mdelimiter\u001b[39m\u001b[38;5;124m\"\u001b[39m: \u001b[38;5;124m\"\u001b[39m\u001b[38;5;124m,\u001b[39m\u001b[38;5;124m\"\u001b[39m},\n\u001b[0;32m    675\u001b[0m )\n\u001b[0;32m    676\u001b[0m kwds\u001b[38;5;241m.\u001b[39mupdate(kwds_defaults)\n\u001b[1;32m--> 678\u001b[0m \u001b[38;5;28;01mreturn\u001b[39;00m \u001b[43m_read\u001b[49m\u001b[43m(\u001b[49m\u001b[43mfilepath_or_buffer\u001b[49m\u001b[43m,\u001b[49m\u001b[43m \u001b[49m\u001b[43mkwds\u001b[49m\u001b[43m)\u001b[49m\n",
      "File \u001b[1;32m~\\anaconda3\\lib\\site-packages\\pandas\\io\\parsers\\readers.py:575\u001b[0m, in \u001b[0;36m_read\u001b[1;34m(filepath_or_buffer, kwds)\u001b[0m\n\u001b[0;32m    572\u001b[0m _validate_names(kwds\u001b[38;5;241m.\u001b[39mget(\u001b[38;5;124m\"\u001b[39m\u001b[38;5;124mnames\u001b[39m\u001b[38;5;124m\"\u001b[39m, \u001b[38;5;28;01mNone\u001b[39;00m))\n\u001b[0;32m    574\u001b[0m \u001b[38;5;66;03m# Create the parser.\u001b[39;00m\n\u001b[1;32m--> 575\u001b[0m parser \u001b[38;5;241m=\u001b[39m TextFileReader(filepath_or_buffer, \u001b[38;5;241m*\u001b[39m\u001b[38;5;241m*\u001b[39mkwds)\n\u001b[0;32m    577\u001b[0m \u001b[38;5;28;01mif\u001b[39;00m chunksize \u001b[38;5;129;01mor\u001b[39;00m iterator:\n\u001b[0;32m    578\u001b[0m     \u001b[38;5;28;01mreturn\u001b[39;00m parser\n",
      "File \u001b[1;32m~\\anaconda3\\lib\\site-packages\\pandas\\io\\parsers\\readers.py:932\u001b[0m, in \u001b[0;36mTextFileReader.__init__\u001b[1;34m(self, f, engine, **kwds)\u001b[0m\n\u001b[0;32m    929\u001b[0m     \u001b[38;5;28mself\u001b[39m\u001b[38;5;241m.\u001b[39moptions[\u001b[38;5;124m\"\u001b[39m\u001b[38;5;124mhas_index_names\u001b[39m\u001b[38;5;124m\"\u001b[39m] \u001b[38;5;241m=\u001b[39m kwds[\u001b[38;5;124m\"\u001b[39m\u001b[38;5;124mhas_index_names\u001b[39m\u001b[38;5;124m\"\u001b[39m]\n\u001b[0;32m    931\u001b[0m \u001b[38;5;28mself\u001b[39m\u001b[38;5;241m.\u001b[39mhandles: IOHandles \u001b[38;5;241m|\u001b[39m \u001b[38;5;28;01mNone\u001b[39;00m \u001b[38;5;241m=\u001b[39m \u001b[38;5;28;01mNone\u001b[39;00m\n\u001b[1;32m--> 932\u001b[0m \u001b[38;5;28mself\u001b[39m\u001b[38;5;241m.\u001b[39m_engine \u001b[38;5;241m=\u001b[39m \u001b[38;5;28;43mself\u001b[39;49m\u001b[38;5;241;43m.\u001b[39;49m\u001b[43m_make_engine\u001b[49m\u001b[43m(\u001b[49m\u001b[43mf\u001b[49m\u001b[43m,\u001b[49m\u001b[43m \u001b[49m\u001b[38;5;28;43mself\u001b[39;49m\u001b[38;5;241;43m.\u001b[39;49m\u001b[43mengine\u001b[49m\u001b[43m)\u001b[49m\n",
      "File \u001b[1;32m~\\anaconda3\\lib\\site-packages\\pandas\\io\\parsers\\readers.py:1234\u001b[0m, in \u001b[0;36mTextFileReader._make_engine\u001b[1;34m(self, f, engine)\u001b[0m\n\u001b[0;32m   1231\u001b[0m     \u001b[38;5;28;01mraise\u001b[39;00m \u001b[38;5;167;01mValueError\u001b[39;00m(msg)\n\u001b[0;32m   1233\u001b[0m \u001b[38;5;28;01mtry\u001b[39;00m:\n\u001b[1;32m-> 1234\u001b[0m     \u001b[38;5;28;01mreturn\u001b[39;00m mapping[engine](f, \u001b[38;5;241m*\u001b[39m\u001b[38;5;241m*\u001b[39m\u001b[38;5;28mself\u001b[39m\u001b[38;5;241m.\u001b[39moptions)\n\u001b[0;32m   1235\u001b[0m \u001b[38;5;28;01mexcept\u001b[39;00m \u001b[38;5;167;01mException\u001b[39;00m:\n\u001b[0;32m   1236\u001b[0m     \u001b[38;5;28;01mif\u001b[39;00m \u001b[38;5;28mself\u001b[39m\u001b[38;5;241m.\u001b[39mhandles \u001b[38;5;129;01mis\u001b[39;00m \u001b[38;5;129;01mnot\u001b[39;00m \u001b[38;5;28;01mNone\u001b[39;00m:\n",
      "File \u001b[1;32m~\\anaconda3\\lib\\site-packages\\pandas\\io\\parsers\\c_parser_wrapper.py:75\u001b[0m, in \u001b[0;36mCParserWrapper.__init__\u001b[1;34m(self, src, **kwds)\u001b[0m\n\u001b[0;32m     72\u001b[0m     kwds\u001b[38;5;241m.\u001b[39mpop(key, \u001b[38;5;28;01mNone\u001b[39;00m)\n\u001b[0;32m     74\u001b[0m kwds[\u001b[38;5;124m\"\u001b[39m\u001b[38;5;124mdtype\u001b[39m\u001b[38;5;124m\"\u001b[39m] \u001b[38;5;241m=\u001b[39m ensure_dtype_objs(kwds\u001b[38;5;241m.\u001b[39mget(\u001b[38;5;124m\"\u001b[39m\u001b[38;5;124mdtype\u001b[39m\u001b[38;5;124m\"\u001b[39m, \u001b[38;5;28;01mNone\u001b[39;00m))\n\u001b[1;32m---> 75\u001b[0m \u001b[38;5;28mself\u001b[39m\u001b[38;5;241m.\u001b[39m_reader \u001b[38;5;241m=\u001b[39m parsers\u001b[38;5;241m.\u001b[39mTextReader(src, \u001b[38;5;241m*\u001b[39m\u001b[38;5;241m*\u001b[39mkwds)\n\u001b[0;32m     77\u001b[0m \u001b[38;5;28mself\u001b[39m\u001b[38;5;241m.\u001b[39munnamed_cols \u001b[38;5;241m=\u001b[39m \u001b[38;5;28mself\u001b[39m\u001b[38;5;241m.\u001b[39m_reader\u001b[38;5;241m.\u001b[39munnamed_cols\n\u001b[0;32m     79\u001b[0m \u001b[38;5;66;03m# error: Cannot determine type of 'names'\u001b[39;00m\n",
      "File \u001b[1;32m~\\anaconda3\\lib\\site-packages\\pandas\\_libs\\parsers.pyx:544\u001b[0m, in \u001b[0;36mpandas._libs.parsers.TextReader.__cinit__\u001b[1;34m()\u001b[0m\n",
      "File \u001b[1;32m~\\anaconda3\\lib\\site-packages\\pandas\\_libs\\parsers.pyx:633\u001b[0m, in \u001b[0;36mpandas._libs.parsers.TextReader._get_header\u001b[1;34m()\u001b[0m\n",
      "File \u001b[1;32m~\\anaconda3\\lib\\site-packages\\pandas\\_libs\\parsers.pyx:847\u001b[0m, in \u001b[0;36mpandas._libs.parsers.TextReader._tokenize_rows\u001b[1;34m()\u001b[0m\n",
      "File \u001b[1;32m~\\anaconda3\\lib\\site-packages\\pandas\\_libs\\parsers.pyx:1952\u001b[0m, in \u001b[0;36mpandas._libs.parsers.raise_parser_error\u001b[1;34m()\u001b[0m\n",
      "\u001b[1;31mUnicodeError\u001b[0m: UTF-16 stream does not start with BOM"
     ]
    }
   ],
   "source": [
    "data=pd.read_csv('fake_job_postings.csv',encoding='utf-16')"
   ]
  },
  {
   "cell_type": "code",
   "execution_count": null,
   "metadata": {
    "id": "x_LCzVE75g_g",
    "outputId": "620ed4c5-fb1b-4304-a1e5-b608dc987913"
   },
   "outputs": [],
   "source": [
    "data.head()"
   ]
  },
  {
   "cell_type": "code",
   "execution_count": null,
   "metadata": {
    "id": "SBHBn5TM5g_h",
    "outputId": "a5fe9337-92b5-47d1-98f6-ea0d6016c0c8"
   },
   "outputs": [],
   "source": [
    "data.shape"
   ]
  },
  {
   "cell_type": "code",
   "execution_count": null,
   "metadata": {
    "id": "mKTRn1aZ5g_i",
    "outputId": "4c3543ee-76be-4b3a-9629-e788269e3e21"
   },
   "outputs": [],
   "source": [
    "data.info()"
   ]
  },
  {
   "cell_type": "code",
   "execution_count": null,
   "metadata": {
    "id": "fbWbV3G35g_i",
    "outputId": "466d0d9a-2d0d-4340-d954-ad6a40e242d2"
   },
   "outputs": [],
   "source": [
    "data.isnull().sum()"
   ]
  },
  {
   "cell_type": "markdown",
   "metadata": {
    "id": "kT_Yox2d5g_j"
   },
   "source": [
    "# Data Pre-processing"
   ]
  },
  {
   "cell_type": "code",
   "execution_count": null,
   "metadata": {
    "id": "-2TyWZED5g_l"
   },
   "outputs": [],
   "source": [
    "# Deal with missing values and drop unneccessary columns\n",
    "\n",
    "# Location missing values will be assigned none\n",
    "data['location'] = data.location.fillna('none')\n",
    "\n",
    "# department missing values will be assigned not specified\n",
    "data['department'] = data.department.fillna('not specified')\n",
    "\n",
    "# drop salary range, benefits, telecommuting, has_questions (not compulsory) in the context of Nigeria\n",
    "data.drop(['salary_range', 'benefits','telecommuting','has_questions'],\n",
    "             axis=1, inplace=True)\n",
    "\n",
    "# Company profile missing values will be assigned none\n",
    "data['company_profile'] = data.company_profile.fillna('none')\n",
    "\n",
    "# Company profile missing values will be assigned not specified\n",
    "data['requirements'] = data.requirements.fillna('not specified')\n",
    "\n",
    "# employment_type missing values will be assigned not specified\n",
    "data['employment_type'] = data.employment_type.fillna('not specified')\n",
    "\n",
    "# required_experience missing values will be assigned not specified\n",
    "data['required_experience'] = data.required_experience.fillna('not specified')\n",
    "\n",
    "# required_education missing values will be assigned not specified\n",
    "data['required_education'] = data.required_education.fillna('not specified')\n",
    "\n",
    "# industry missing values will be assigned not specified\n",
    "data['industry'] = data.industry.fillna('not specified')\n",
    "\n",
    "# function missing values will be assigned not specified\n",
    "data['function'] = data.function.fillna('not specified')"
   ]
  },
  {
   "cell_type": "code",
   "execution_count": null,
   "metadata": {
    "id": "2grBvE-w5g_n",
    "outputId": "53e6e6a3-0f9f-4744-cd69-0c73a7e967a5"
   },
   "outputs": [],
   "source": [
    "data.isnull().sum()"
   ]
  },
  {
   "cell_type": "code",
   "execution_count": null,
   "metadata": {
    "id": "GPh5KGfK5g_o",
    "outputId": "f7d849bf-682b-4eba-b49d-e5f4f9c80909"
   },
   "outputs": [],
   "source": [
    "data.head()"
   ]
  },
  {
   "cell_type": "code",
   "execution_count": null,
   "metadata": {
    "id": "rh2UJ76w5g_o",
    "outputId": "bf9f2ade-41b7-4b81-a27a-5a1f5822bcd9"
   },
   "outputs": [],
   "source": [
    "data.columns"
   ]
  },
  {
   "cell_type": "code",
   "execution_count": null,
   "metadata": {
    "id": "JIkb7YhX5g_p",
    "outputId": "a6f4935e-38bf-4cca-e378-3b4cedd8e0df"
   },
   "outputs": [],
   "source": [
    "print('Data set:')\n",
    "for col_name in data.columns:\n",
    "    if data[col_name].dtypes == 'object' :\n",
    "        unique_cat = len(data[col_name].unique())\n",
    "        print(\"Feature '{col_name}' has {unique_cat} categories\".format(col_name=col_name, unique_cat=unique_cat))\n",
    "\n",
    "print()"
   ]
  },
  {
   "cell_type": "code",
   "execution_count": null,
   "metadata": {
    "id": "GtqHj7og5g_p"
   },
   "outputs": [],
   "source": [
    "df = data[['title', 'location','company_profile', 'requirements', 'employment_type',\n",
    "       'required_experience', 'required_education', 'industry', 'function',\n",
    "       'fraudulent']]"
   ]
  },
  {
   "cell_type": "code",
   "execution_count": null,
   "metadata": {
    "id": "Ymm0-iG95g_q",
    "outputId": "5487ca9f-58dc-46bd-fc0a-1b84bc254d03"
   },
   "outputs": [],
   "source": [
    "# Check if there is any null value\n",
    "df.isna().apply(pd.value_counts)"
   ]
  },
  {
   "cell_type": "code",
   "execution_count": null,
   "metadata": {
    "id": "PW2xmNQf5g_q",
    "outputId": "9184e7aa-f0e6-4817-b99e-831e23922530"
   },
   "outputs": [],
   "source": [
    "#Check for number of null values\n",
    "df.isnull().sum()"
   ]
  },
  {
   "cell_type": "code",
   "execution_count": null,
   "metadata": {
    "id": "BADyxAlo5g_r"
   },
   "outputs": [],
   "source": [
    "df_num = df[['fraudulent']]\n",
    "df_cat = df[['title', 'location','company_profile', 'requirements','employment_type',\n",
    "       'required_experience', 'required_education', 'industry', 'function']]"
   ]
  },
  {
   "cell_type": "code",
   "execution_count": null,
   "metadata": {
    "id": "OVw3_3EU5g_r",
    "outputId": "baa95fdf-8d53-469e-cffc-62eb15878271"
   },
   "outputs": [],
   "source": [
    "# Checking for Outliers in numerical data\n",
    "plt.figure(figsize=[16,8])\n",
    "sns.boxplot(data = df_num)\n",
    "plt.show()"
   ]
  },
  {
   "cell_type": "code",
   "execution_count": null,
   "metadata": {
    "id": "xUBpXlmP5g_r"
   },
   "outputs": [],
   "source": [
    "#Removing Outliers from columns\n",
    "df_num = df_num[df_num['fraudulent'] < 0.9 ]"
   ]
  },
  {
   "cell_type": "code",
   "execution_count": null,
   "metadata": {
    "id": "UdVccv4W5g_s",
    "outputId": "116c4231-1b45-4e72-e9a1-bf4f24277388"
   },
   "outputs": [],
   "source": [
    "df.shape\n"
   ]
  },
  {
   "cell_type": "code",
   "execution_count": null,
   "metadata": {
    "id": "P-OVislu5g_s",
    "outputId": "5ca517d0-7b79-41d1-82d4-2a78a7dea2ab"
   },
   "outputs": [],
   "source": [
    "#fig, axes = plt.subplots(ncols=2, figsize=(17, 5), dpi=100)\n",
    "#plt.tight_layout()\n",
    "\n",
    "#df[\"fraudulent\"].value_counts().plot(kind='pie', ax=axes[0], labels=['Real Post (95%)', 'Fake Post (5%)'])\n",
    "#temp = df[\"fraudulent\"].value_counts()\n",
    "#sns.barplot(temp.index, temp, ax=axes[1])\n",
    "\n",
    "#axes[0].set_ylabel(' ')\n",
    "#axes[1].set_ylabel(' ')\n",
    "#axes[1].set_xticklabels([\"Real Post (17014) [0's]\", \"Fake Post (866) [1's]\"])\n",
    "\n",
    "#axes[0].set_title('Target Distribution in Dataset', fontsize=13)\n",
    "#axes[1].set_title('Target Count in Dataset', fontsize=13)\n",
    "\n",
    "#plt.show()"
   ]
  },
  {
   "cell_type": "code",
   "execution_count": null,
   "metadata": {
    "id": "0HFI8RnT5g_t",
    "outputId": "1866fd47-1118-4556-ae57-bdf045c29e2b"
   },
   "outputs": [],
   "source": [
    "cat_cols = [\"employment_type\", \"required_experience\", \"required_education\",]\n",
    "# visualizating catagorical variable by target\n",
    "import matplotlib.gridspec as gridspec # to do the grid of plots\n",
    "grid = gridspec.GridSpec(3, 3, wspace=0.5, hspace=0.5) # The grid of chart\n",
    "plt.figure(figsize=(15,25)) # size of figure\n",
    "\n",
    "# loop to get column and the count of plots\n",
    "for n, col in enumerate(df[cat_cols]): \n",
    "    ax = plt.subplot(grid[n]) # feeding the figure of grid\n",
    "    sns.countplot(x=col, data=df, hue='fraudulent', palette='Set2') \n",
    "    ax.set_ylabel('Count', fontsize=12) # y axis label\n",
    "    ax.set_title(f'{col} Distribution by Target', fontsize=15) # title label\n",
    "    ax.set_xlabel(f'{col} values', fontsize=12) # x axis label\n",
    "    xlabels = ax.get_xticklabels() \n",
    "    ylabels = ax.get_yticklabels() \n",
    "    ax.set_xticklabels(xlabels,  fontsize=10)\n",
    "    ax.set_yticklabels(ylabels,  fontsize=10)\n",
    "    plt.legend(fontsize=8)\n",
    "    plt.xticks(rotation=90) \n",
    "    total = len(df)\n",
    "    sizes=[] # Get highest values in y\n",
    "    for p in ax.patches: # loop to all objects\n",
    "        height = p.get_height()\n",
    "        sizes.append(height)\n",
    "        ax.text(p.get_x()+p.get_width()/2.,\n",
    "                height + 3,\n",
    "                '{:1.2f}%'.format(height/total*100),\n",
    "                ha=\"center\", fontsize=10) \n",
    "    ax.set_ylim(0, max(sizes) * 1.15) #set y limit based on highest heights\n",
    "\n",
    "\n",
    "plt.show()"
   ]
  },
  {
   "cell_type": "code",
   "execution_count": null,
   "metadata": {
    "id": "xfM3AaFt5g_t",
    "outputId": "6cc12c53-ecd5-4e2b-8dff-b7da7aa26836"
   },
   "outputs": [],
   "source": [
    "fig,(ax1,ax2)= plt.subplots(ncols=2, figsize=(17, 5), dpi=100)\n",
    "length=df[df[\"fraudulent\"]==1]['requirements'].str.len()\n",
    "ax1.hist(length,bins = 20,color='orangered')\n",
    "ax1.set_title('Fake Post')\n",
    "length=df[df[\"fraudulent\"]==0]['requirements'].str.len()\n",
    "ax2.hist(length, bins = 20)\n",
    "ax2.set_title('Real Post')\n",
    "fig.suptitle('Characters in description')\n",
    "plt.show()"
   ]
  },
  {
   "cell_type": "code",
   "execution_count": null,
   "metadata": {
    "id": "MAsmg4Ay5g_t",
    "outputId": "75d9cdd4-0384-4855-a227-acad68542723"
   },
   "outputs": [],
   "source": [
    "fig,(ax1,ax2)= plt.subplots(ncols=2, figsize=(17, 5), dpi=100)\n",
    "num=df[df[\"fraudulent\"]==1]['company_profile'].str.split().map(lambda x: len(x))\n",
    "ax1.hist(num,bins = 20,color='orangered')\n",
    "ax1.set_title('Fake Post')\n",
    "num=df[df[\"fraudulent\"]==0]['company_profile'].str.split().map(lambda x: len(x))\n",
    "ax2.hist(num, bins = 20)\n",
    "ax2.set_title('Real Post')\n",
    "fig.suptitle('Words in company profile')\n",
    "plt.show()"
   ]
  },
  {
   "cell_type": "code",
   "execution_count": null,
   "metadata": {
    "id": "Uwy6fmcv5g_u",
    "outputId": "5d16c001-610d-42c1-9713-9a05c6e1814f"
   },
   "outputs": [],
   "source": [
    "df['fraudulent'].values"
   ]
  },
  {
   "cell_type": "code",
   "execution_count": null,
   "metadata": {
    "id": "yXCeo8OS5g_u",
    "outputId": "2ea34393-abe3-4b3d-df87-c362efeb5fac"
   },
   "outputs": [],
   "source": [
    "fraud = df[df['fraudulent']== 1]\n",
    "fraud.shape"
   ]
  },
  {
   "cell_type": "code",
   "execution_count": null,
   "metadata": {
    "id": "r14pB4HQ5g_u",
    "outputId": "4f4c54f3-3cef-41cb-87f9-a584405dff0c"
   },
   "outputs": [],
   "source": [
    "not_fraud = df[df['fraudulent']== 0]\n",
    "not_fraud.shape"
   ]
  },
  {
   "cell_type": "code",
   "execution_count": null,
   "metadata": {
    "id": "q7n-5D7o5g_v",
    "outputId": "83076b32-9434-4239-ab01-c7db97a455f5"
   },
   "outputs": [],
   "source": [
    "fraud = fraud.sample(1403, replace=True)\n",
    "fraud.shape, not_fraud.shape"
   ]
  },
  {
   "cell_type": "code",
   "execution_count": null,
   "metadata": {
    "id": "cRBQDvpw5g_v",
    "outputId": "49569983-391c-41ab-ecb8-5f1b0ca29e22"
   },
   "outputs": [],
   "source": [
    "df = fraud.append(not_fraud)\n",
    "df.reset_index()"
   ]
  },
  {
   "cell_type": "code",
   "execution_count": null,
   "metadata": {
    "id": "-IP9YQ_B5g_v"
   },
   "outputs": [],
   "source": [
    "from sklearn.preprocessing import LabelEncoder\n",
    "le = LabelEncoder()\n",
    "df['title'] = le.fit_transform(df['title'])\n",
    "df['location'] = le.fit_transform(df['location'])\n",
    "df['company_profile'] = le.fit_transform(df['company_profile'])\n",
    "df['requirements'] = le.fit_transform(df['requirements'])\n",
    "df['employment_type'] = le.fit_transform(df['employment_type'])\n",
    "df['required_experience'] = le.fit_transform(df['required_experience'])\n",
    "df['required_education'] = le.fit_transform(df['required_education'])\n",
    "df['industry'] = le.fit_transform(df['industry'])\n",
    "df['function'] = le.fit_transform(df['function'])"
   ]
  },
  {
   "cell_type": "code",
   "execution_count": null,
   "metadata": {
    "id": "zuwXTL1W5g_w",
    "outputId": "8a422ebe-e9cd-4e09-c819-e6a20c258659"
   },
   "outputs": [],
   "source": [
    "df = df.reset_index()\n",
    "df.head()"
   ]
  },
  {
   "cell_type": "code",
   "execution_count": null,
   "metadata": {
    "id": "dOARjg5P5g_w"
   },
   "outputs": [],
   "source": [
    "from sklearn.model_selection import train_test_split\n",
    "\n",
    "X = df[['index', 'title', 'location', 'company_profile', 'requirements',\n",
    "       'employment_type','required_experience', 'required_education', 'industry', 'function']].values\n",
    "Y = df[['fraudulent']].values\n"
   ]
  },
  {
   "cell_type": "code",
   "execution_count": null,
   "metadata": {
    "id": "OrsK8bUB5g_w"
   },
   "outputs": [],
   "source": [
    "X_train, X_test, Y_train, Y_test = train_test_split(X, Y)"
   ]
  },
  {
   "cell_type": "code",
   "execution_count": null,
   "metadata": {
    "id": "FKIT32RD5g_x",
    "outputId": "c105b247-e371-4b20-e155-fda2e547121f"
   },
   "outputs": [],
   "source": [
    "X_train.shape, X_test.shape, Y_train.shape, Y_test.shape"
   ]
  },
  {
   "cell_type": "code",
   "execution_count": null,
   "metadata": {
    "id": "NvrUKgnG5g_x"
   },
   "outputs": [],
   "source": [
    "from sklearn.linear_model import LogisticRegression\n",
    "from sklearn.ensemble import RandomForestClassifier\n",
    "from sklearn.svm import SVC\n",
    "from sklearn.tree import DecisionTreeClassifier\n",
    "from sklearn.neighbors import KNeighborsClassifier\n",
    "from sklearn.naive_bayes import GaussianNB\n",
    "import sklearn.metrics as metrics\n",
    "from sklearn.metrics import accuracy_score"
   ]
  },
  {
   "cell_type": "code",
   "execution_count": null,
   "metadata": {
    "id": "QjAa-25I5g_x"
   },
   "outputs": [],
   "source": [
    "import warnings\n",
    "warnings.filterwarnings('ignore')\n"
   ]
  },
  {
   "cell_type": "code",
   "execution_count": null,
   "metadata": {
    "id": "mqmwp0yM5g_x",
    "outputId": "cac98f0b-426d-4d54-f4a3-a5999deac1f1"
   },
   "outputs": [],
   "source": [
    "### Logistic Regression\n",
    "\n",
    "clf=LogisticRegression()\n",
    "clf.fit(X_train, Y_train)\n",
    "preds=clf.predict(X_test)\n",
    "print('accuracy with Logistic Regression:',accuracy_score(Y_test, preds), '%')\n",
    "\n",
    "### Random Forest\n",
    "\n",
    "clf=RandomForestClassifier()\n",
    "clf.fit(X_train, Y_train)\n",
    "preds=clf.predict(X_test)\n",
    "print('accuracy with Random Forest:',accuracy_score(Y_test, preds), '%')\n",
    "\n",
    "### Support Vector Machine\n",
    "\n",
    "clf=SVC()\n",
    "clf.fit(X_train, Y_train)\n",
    "preds=clf.predict(X_test)\n",
    "print('accuracy with Support Vector Machine:',accuracy_score(Y_test, preds), '%')\n",
    "\n",
    "### Decision Tree\n",
    "\n",
    "clf=DecisionTreeClassifier()\n",
    "clf.fit(X_train, Y_train)\n",
    "preds=clf.predict(X_test)\n",
    "print('accuracy with Decision Tree:',accuracy_score(Y_test, preds), '%')\n",
    "\n",
    "### K-Nearest Neighbors\n",
    "\n",
    "clf=KNeighborsClassifier()\n",
    "clf.fit(X_train, Y_train)\n",
    "preds=clf.predict(X_test)\n",
    "print('accuracy with K-Nearest Neighbors :',accuracy_score(Y_test, preds), '%')\n",
    "\n",
    "### Naive Bayes\n",
    "\n",
    "clf=GaussianNB()\n",
    "clf.fit(X_train, Y_train)\n",
    "preds=clf.predict(X_test)\n",
    "print('accuracy with Naive Bayes:',accuracy_score(Y_test, preds), '%')\n"
   ]
  },
  {
   "cell_type": "code",
   "execution_count": null,
   "metadata": {
    "id": "JZhxNmXn5g_y",
    "outputId": "f2088fee-0216-41e1-c4e5-dbc1eb02d541"
   },
   "outputs": [],
   "source": [
    "test_vector = np.reshape(np.asarray([17614,5362,1393,1669,11417,1,7,13,75,37]),(1,10))\n",
    "p = int(clf.predict(test_vector)[0])\n",
    "\n",
    "if p==0:\n",
    "    print('Job profile is Real')\n",
    "else:\n",
    "    print('Job profile is fake')\n"
   ]
  },
  {
   "cell_type": "code",
   "execution_count": null,
   "metadata": {
    "id": "GaqyI-5r5g_y"
   },
   "outputs": [],
   "source": []
  }
 ],
 "metadata": {
  "colab": {
   "name": "fake_job_pred.ipynb",
   "provenance": []
  },
  "kernelspec": {
   "display_name": "Python 3 (ipykernel)",
   "language": "python",
   "name": "python3"
  },
  "language_info": {
   "codemirror_mode": {
    "name": "ipython",
    "version": 3
   },
   "file_extension": ".py",
   "mimetype": "text/x-python",
   "name": "python",
   "nbconvert_exporter": "python",
   "pygments_lexer": "ipython3",
   "version": "3.9.12"
  }
 },
 "nbformat": 4,
 "nbformat_minor": 1
}
