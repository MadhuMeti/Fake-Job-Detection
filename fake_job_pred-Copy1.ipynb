{
 "cells": [
  {
   "cell_type": "code",
   "execution_count": 1,
   "metadata": {
    "id": "1rxNtmo65g_a",
    "outputId": "14450edd-42e8-4777-d8de-e156b145ebf6"
   },
   "outputs": [],
   "source": [
    "import numpy as np\n",
    "import pandas as pd\n",
    "import seaborn as sns\n",
    "from sklearn import preprocessing\n",
    "import matplotlib.pyplot as plt"
   ]
  },
  {
   "cell_type": "code",
   "execution_count": 2,
   "metadata": {
    "id": "aNiqbDFs5g_f"
   },
   "outputs": [],
   "source": [
    "data=pd.read_csv('fake.csv')"
   ]
  },
  {
   "cell_type": "code",
   "execution_count": 3,
   "metadata": {
    "id": "x_LCzVE75g_g",
    "outputId": "620ed4c5-fb1b-4304-a1e5-b608dc987913"
   },
   "outputs": [
    {
     "data": {
      "text/html": [
       "<div>\n",
       "<style scoped>\n",
       "    .dataframe tbody tr th:only-of-type {\n",
       "        vertical-align: middle;\n",
       "    }\n",
       "\n",
       "    .dataframe tbody tr th {\n",
       "        vertical-align: top;\n",
       "    }\n",
       "\n",
       "    .dataframe thead th {\n",
       "        text-align: right;\n",
       "    }\n",
       "</style>\n",
       "<table border=\"1\" class=\"dataframe\">\n",
       "  <thead>\n",
       "    <tr style=\"text-align: right;\">\n",
       "      <th></th>\n",
       "      <th>job_id</th>\n",
       "      <th>title</th>\n",
       "      <th>location</th>\n",
       "      <th>department</th>\n",
       "      <th>salary_range</th>\n",
       "      <th>company_profile</th>\n",
       "      <th>description</th>\n",
       "      <th>requirements</th>\n",
       "      <th>benefits</th>\n",
       "      <th>telecommuting</th>\n",
       "      <th>has_company_logo</th>\n",
       "      <th>has_questions</th>\n",
       "      <th>employment_type</th>\n",
       "      <th>required_experience</th>\n",
       "      <th>required_education</th>\n",
       "      <th>industry</th>\n",
       "      <th>function</th>\n",
       "      <th>fraudulent</th>\n",
       "    </tr>\n",
       "  </thead>\n",
       "  <tbody>\n",
       "    <tr>\n",
       "      <th>0</th>\n",
       "      <td>1</td>\n",
       "      <td>Marketing Intern</td>\n",
       "      <td>US, NY, New York</td>\n",
       "      <td>Marketing</td>\n",
       "      <td>NaN</td>\n",
       "      <td>We're Food52, and we've created a groundbreaki...</td>\n",
       "      <td>Food52, a fast-growing, James Beard Award-winn...</td>\n",
       "      <td>Experience with content management systems a m...</td>\n",
       "      <td>NaN</td>\n",
       "      <td>0</td>\n",
       "      <td>1</td>\n",
       "      <td>0</td>\n",
       "      <td>Other</td>\n",
       "      <td>Internship</td>\n",
       "      <td>NaN</td>\n",
       "      <td>NaN</td>\n",
       "      <td>Marketing</td>\n",
       "      <td>0</td>\n",
       "    </tr>\n",
       "    <tr>\n",
       "      <th>1</th>\n",
       "      <td>2</td>\n",
       "      <td>Customer Service - Cloud Video Production</td>\n",
       "      <td>NZ, , Auckland</td>\n",
       "      <td>Success</td>\n",
       "      <td>NaN</td>\n",
       "      <td>90 Seconds, the worlds Cloud Video Production ...</td>\n",
       "      <td>Organised - Focused - Vibrant - Awesome!Do you...</td>\n",
       "      <td>What we expect from you:Your key responsibilit...</td>\n",
       "      <td>What you will get from usThrough being part of...</td>\n",
       "      <td>0</td>\n",
       "      <td>1</td>\n",
       "      <td>0</td>\n",
       "      <td>Full-time</td>\n",
       "      <td>Not Applicable</td>\n",
       "      <td>NaN</td>\n",
       "      <td>Marketing and Advertising</td>\n",
       "      <td>Customer Service</td>\n",
       "      <td>0</td>\n",
       "    </tr>\n",
       "    <tr>\n",
       "      <th>2</th>\n",
       "      <td>3</td>\n",
       "      <td>Commissioning Machinery Assistant (CMA)</td>\n",
       "      <td>US, IA, Wever</td>\n",
       "      <td>NaN</td>\n",
       "      <td>NaN</td>\n",
       "      <td>Valor Services provides Workforce Solutions th...</td>\n",
       "      <td>Our client, located in Houston, is actively se...</td>\n",
       "      <td>Implement pre-commissioning and commissioning ...</td>\n",
       "      <td>NaN</td>\n",
       "      <td>0</td>\n",
       "      <td>1</td>\n",
       "      <td>0</td>\n",
       "      <td>NaN</td>\n",
       "      <td>NaN</td>\n",
       "      <td>NaN</td>\n",
       "      <td>NaN</td>\n",
       "      <td>NaN</td>\n",
       "      <td>0</td>\n",
       "    </tr>\n",
       "    <tr>\n",
       "      <th>3</th>\n",
       "      <td>4</td>\n",
       "      <td>Account Executive - Washington DC</td>\n",
       "      <td>US, DC, Washington</td>\n",
       "      <td>Sales</td>\n",
       "      <td>NaN</td>\n",
       "      <td>Our passion for improving quality of life thro...</td>\n",
       "      <td>THE COMPANY: ESRI – Environmental Systems Rese...</td>\n",
       "      <td>EDUCATION: Bachelor’s or Master’s in GIS, busi...</td>\n",
       "      <td>Our culture is anything but corporate—we have ...</td>\n",
       "      <td>0</td>\n",
       "      <td>1</td>\n",
       "      <td>0</td>\n",
       "      <td>Full-time</td>\n",
       "      <td>Mid-Senior level</td>\n",
       "      <td>Bachelor's Degree</td>\n",
       "      <td>Computer Software</td>\n",
       "      <td>Sales</td>\n",
       "      <td>0</td>\n",
       "    </tr>\n",
       "    <tr>\n",
       "      <th>4</th>\n",
       "      <td>5</td>\n",
       "      <td>Bill Review Manager</td>\n",
       "      <td>US, FL, Fort Worth</td>\n",
       "      <td>NaN</td>\n",
       "      <td>NaN</td>\n",
       "      <td>SpotSource Solutions LLC is a Global Human Cap...</td>\n",
       "      <td>JOB TITLE: Itemization Review ManagerLOCATION:...</td>\n",
       "      <td>QUALIFICATIONS:RN license in the State of Texa...</td>\n",
       "      <td>Full Benefits Offered</td>\n",
       "      <td>0</td>\n",
       "      <td>1</td>\n",
       "      <td>1</td>\n",
       "      <td>Full-time</td>\n",
       "      <td>Mid-Senior level</td>\n",
       "      <td>Bachelor's Degree</td>\n",
       "      <td>Hospital &amp; Health Care</td>\n",
       "      <td>Health Care Provider</td>\n",
       "      <td>0</td>\n",
       "    </tr>\n",
       "  </tbody>\n",
       "</table>\n",
       "</div>"
      ],
      "text/plain": [
       "   job_id                                      title            location  \\\n",
       "0       1                           Marketing Intern    US, NY, New York   \n",
       "1       2  Customer Service - Cloud Video Production      NZ, , Auckland   \n",
       "2       3    Commissioning Machinery Assistant (CMA)       US, IA, Wever   \n",
       "3       4          Account Executive - Washington DC  US, DC, Washington   \n",
       "4       5                        Bill Review Manager  US, FL, Fort Worth   \n",
       "\n",
       "  department salary_range                                    company_profile  \\\n",
       "0  Marketing          NaN  We're Food52, and we've created a groundbreaki...   \n",
       "1    Success          NaN  90 Seconds, the worlds Cloud Video Production ...   \n",
       "2        NaN          NaN  Valor Services provides Workforce Solutions th...   \n",
       "3      Sales          NaN  Our passion for improving quality of life thro...   \n",
       "4        NaN          NaN  SpotSource Solutions LLC is a Global Human Cap...   \n",
       "\n",
       "                                         description  \\\n",
       "0  Food52, a fast-growing, James Beard Award-winn...   \n",
       "1  Organised - Focused - Vibrant - Awesome!Do you...   \n",
       "2  Our client, located in Houston, is actively se...   \n",
       "3  THE COMPANY: ESRI – Environmental Systems Rese...   \n",
       "4  JOB TITLE: Itemization Review ManagerLOCATION:...   \n",
       "\n",
       "                                        requirements  \\\n",
       "0  Experience with content management systems a m...   \n",
       "1  What we expect from you:Your key responsibilit...   \n",
       "2  Implement pre-commissioning and commissioning ...   \n",
       "3  EDUCATION: Bachelor’s or Master’s in GIS, busi...   \n",
       "4  QUALIFICATIONS:RN license in the State of Texa...   \n",
       "\n",
       "                                            benefits  telecommuting  \\\n",
       "0                                                NaN              0   \n",
       "1  What you will get from usThrough being part of...              0   \n",
       "2                                                NaN              0   \n",
       "3  Our culture is anything but corporate—we have ...              0   \n",
       "4                              Full Benefits Offered              0   \n",
       "\n",
       "   has_company_logo  has_questions employment_type required_experience  \\\n",
       "0                 1              0           Other          Internship   \n",
       "1                 1              0       Full-time      Not Applicable   \n",
       "2                 1              0             NaN                 NaN   \n",
       "3                 1              0       Full-time    Mid-Senior level   \n",
       "4                 1              1       Full-time    Mid-Senior level   \n",
       "\n",
       "  required_education                   industry              function  \\\n",
       "0                NaN                        NaN             Marketing   \n",
       "1                NaN  Marketing and Advertising      Customer Service   \n",
       "2                NaN                        NaN                   NaN   \n",
       "3  Bachelor's Degree          Computer Software                 Sales   \n",
       "4  Bachelor's Degree     Hospital & Health Care  Health Care Provider   \n",
       "\n",
       "   fraudulent  \n",
       "0           0  \n",
       "1           0  \n",
       "2           0  \n",
       "3           0  \n",
       "4           0  "
      ]
     },
     "execution_count": 3,
     "metadata": {},
     "output_type": "execute_result"
    }
   ],
   "source": [
    "data.head()"
   ]
  },
  {
   "cell_type": "code",
   "execution_count": 4,
   "metadata": {
    "id": "SBHBn5TM5g_h",
    "outputId": "a5fe9337-92b5-47d1-98f6-ea0d6016c0c8"
   },
   "outputs": [
    {
     "data": {
      "text/plain": [
       "(17881, 18)"
      ]
     },
     "execution_count": 4,
     "metadata": {},
     "output_type": "execute_result"
    }
   ],
   "source": [
    "data.shape"
   ]
  },
  {
   "cell_type": "code",
   "execution_count": 5,
   "metadata": {
    "id": "mKTRn1aZ5g_i",
    "outputId": "4c3543ee-76be-4b3a-9629-e788269e3e21"
   },
   "outputs": [
    {
     "name": "stdout",
     "output_type": "stream",
     "text": [
      "<class 'pandas.core.frame.DataFrame'>\n",
      "RangeIndex: 17881 entries, 0 to 17880\n",
      "Data columns (total 18 columns):\n",
      " #   Column               Non-Null Count  Dtype \n",
      "---  ------               --------------  ----- \n",
      " 0   job_id               17881 non-null  int64 \n",
      " 1   title                17881 non-null  object\n",
      " 2   location             17535 non-null  object\n",
      " 3   department           6334 non-null   object\n",
      " 4   salary_range         2869 non-null   object\n",
      " 5   company_profile      14573 non-null  object\n",
      " 6   description          17880 non-null  object\n",
      " 7   requirements         15186 non-null  object\n",
      " 8   benefits             10671 non-null  object\n",
      " 9   telecommuting        17881 non-null  int64 \n",
      " 10  has_company_logo     17881 non-null  int64 \n",
      " 11  has_questions        17881 non-null  int64 \n",
      " 12  employment_type      14410 non-null  object\n",
      " 13  required_experience  10831 non-null  object\n",
      " 14  required_education   9776 non-null   object\n",
      " 15  industry             12978 non-null  object\n",
      " 16  function             11426 non-null  object\n",
      " 17  fraudulent           17881 non-null  int64 \n",
      "dtypes: int64(5), object(13)\n",
      "memory usage: 2.5+ MB\n"
     ]
    }
   ],
   "source": [
    "data.info()"
   ]
  },
  {
   "cell_type": "code",
   "execution_count": 6,
   "metadata": {
    "id": "fbWbV3G35g_i",
    "outputId": "466d0d9a-2d0d-4340-d954-ad6a40e242d2"
   },
   "outputs": [
    {
     "data": {
      "text/plain": [
       "job_id                     0\n",
       "title                      0\n",
       "location                 346\n",
       "department             11547\n",
       "salary_range           15012\n",
       "company_profile         3308\n",
       "description                1\n",
       "requirements            2695\n",
       "benefits                7210\n",
       "telecommuting              0\n",
       "has_company_logo           0\n",
       "has_questions              0\n",
       "employment_type         3471\n",
       "required_experience     7050\n",
       "required_education      8105\n",
       "industry                4903\n",
       "function                6455\n",
       "fraudulent                 0\n",
       "dtype: int64"
      ]
     },
     "execution_count": 6,
     "metadata": {},
     "output_type": "execute_result"
    }
   ],
   "source": [
    "data.isnull().sum()"
   ]
  },
  {
   "cell_type": "markdown",
   "metadata": {
    "id": "kT_Yox2d5g_j"
   },
   "source": [
    "# Data Pre-processing"
   ]
  },
  {
   "cell_type": "code",
   "execution_count": 7,
   "metadata": {
    "id": "-2TyWZED5g_l"
   },
   "outputs": [],
   "source": [
    "# Deal with missing values and drop unneccessary columns\n",
    "\n",
    "# Location missing values will be assigned none\n",
    "data['location'] = data.location.fillna('none')\n",
    "\n",
    "# department missing values will be assigned not specified\n",
    "data['department'] = data.department.fillna('not specified')\n",
    "\n",
    "# drop salary range, benefits, telecommuting, has_questions (not compulsory) in the context of Nigeria\n",
    "data.drop(['salary_range', 'benefits','telecommuting','has_questions'],\n",
    "             axis=1, inplace=True)\n",
    "\n",
    "# Company profile missing values will be assigned none\n",
    "data['company_profile'] = data.company_profile.fillna('none')\n",
    "\n",
    "# Company profile missing values will be assigned not specified\n",
    "data['requirements'] = data.requirements.fillna('not specified')\n",
    "\n",
    "# employment_type missing values will be assigned not specified\n",
    "data['employment_type'] = data.employment_type.fillna('not specified')\n",
    "\n",
    "# required_experience missing values will be assigned not specified\n",
    "data['required_experience'] = data.required_experience.fillna('not specified')\n",
    "\n",
    "# required_education missing values will be assigned not specified\n",
    "data['required_education'] = data.required_education.fillna('not specified')\n",
    "\n",
    "# industry missing values will be assigned not specified\n",
    "data['industry'] = data.industry.fillna('not specified')\n",
    "\n",
    "# function missing values will be assigned not specified\n",
    "data['function'] = data.function.fillna('not specified')"
   ]
  },
  {
   "cell_type": "code",
   "execution_count": 8,
   "metadata": {
    "id": "2grBvE-w5g_n",
    "outputId": "53e6e6a3-0f9f-4744-cd69-0c73a7e967a5"
   },
   "outputs": [
    {
     "data": {
      "text/plain": [
       "job_id                 0\n",
       "title                  0\n",
       "location               0\n",
       "department             0\n",
       "company_profile        0\n",
       "description            1\n",
       "requirements           0\n",
       "has_company_logo       0\n",
       "employment_type        0\n",
       "required_experience    0\n",
       "required_education     0\n",
       "industry               0\n",
       "function               0\n",
       "fraudulent             0\n",
       "dtype: int64"
      ]
     },
     "execution_count": 8,
     "metadata": {},
     "output_type": "execute_result"
    }
   ],
   "source": [
    "data.isnull().sum()"
   ]
  },
  {
   "cell_type": "code",
   "execution_count": 9,
   "metadata": {
    "id": "GPh5KGfK5g_o",
    "outputId": "f7d849bf-682b-4eba-b49d-e5f4f9c80909"
   },
   "outputs": [
    {
     "data": {
      "text/html": [
       "<div>\n",
       "<style scoped>\n",
       "    .dataframe tbody tr th:only-of-type {\n",
       "        vertical-align: middle;\n",
       "    }\n",
       "\n",
       "    .dataframe tbody tr th {\n",
       "        vertical-align: top;\n",
       "    }\n",
       "\n",
       "    .dataframe thead th {\n",
       "        text-align: right;\n",
       "    }\n",
       "</style>\n",
       "<table border=\"1\" class=\"dataframe\">\n",
       "  <thead>\n",
       "    <tr style=\"text-align: right;\">\n",
       "      <th></th>\n",
       "      <th>job_id</th>\n",
       "      <th>title</th>\n",
       "      <th>location</th>\n",
       "      <th>department</th>\n",
       "      <th>company_profile</th>\n",
       "      <th>description</th>\n",
       "      <th>requirements</th>\n",
       "      <th>has_company_logo</th>\n",
       "      <th>employment_type</th>\n",
       "      <th>required_experience</th>\n",
       "      <th>required_education</th>\n",
       "      <th>industry</th>\n",
       "      <th>function</th>\n",
       "      <th>fraudulent</th>\n",
       "    </tr>\n",
       "  </thead>\n",
       "  <tbody>\n",
       "    <tr>\n",
       "      <th>0</th>\n",
       "      <td>1</td>\n",
       "      <td>Marketing Intern</td>\n",
       "      <td>US, NY, New York</td>\n",
       "      <td>Marketing</td>\n",
       "      <td>We're Food52, and we've created a groundbreaki...</td>\n",
       "      <td>Food52, a fast-growing, James Beard Award-winn...</td>\n",
       "      <td>Experience with content management systems a m...</td>\n",
       "      <td>1</td>\n",
       "      <td>Other</td>\n",
       "      <td>Internship</td>\n",
       "      <td>not specified</td>\n",
       "      <td>not specified</td>\n",
       "      <td>Marketing</td>\n",
       "      <td>0</td>\n",
       "    </tr>\n",
       "    <tr>\n",
       "      <th>1</th>\n",
       "      <td>2</td>\n",
       "      <td>Customer Service - Cloud Video Production</td>\n",
       "      <td>NZ, , Auckland</td>\n",
       "      <td>Success</td>\n",
       "      <td>90 Seconds, the worlds Cloud Video Production ...</td>\n",
       "      <td>Organised - Focused - Vibrant - Awesome!Do you...</td>\n",
       "      <td>What we expect from you:Your key responsibilit...</td>\n",
       "      <td>1</td>\n",
       "      <td>Full-time</td>\n",
       "      <td>Not Applicable</td>\n",
       "      <td>not specified</td>\n",
       "      <td>Marketing and Advertising</td>\n",
       "      <td>Customer Service</td>\n",
       "      <td>0</td>\n",
       "    </tr>\n",
       "    <tr>\n",
       "      <th>2</th>\n",
       "      <td>3</td>\n",
       "      <td>Commissioning Machinery Assistant (CMA)</td>\n",
       "      <td>US, IA, Wever</td>\n",
       "      <td>not specified</td>\n",
       "      <td>Valor Services provides Workforce Solutions th...</td>\n",
       "      <td>Our client, located in Houston, is actively se...</td>\n",
       "      <td>Implement pre-commissioning and commissioning ...</td>\n",
       "      <td>1</td>\n",
       "      <td>not specified</td>\n",
       "      <td>not specified</td>\n",
       "      <td>not specified</td>\n",
       "      <td>not specified</td>\n",
       "      <td>not specified</td>\n",
       "      <td>0</td>\n",
       "    </tr>\n",
       "    <tr>\n",
       "      <th>3</th>\n",
       "      <td>4</td>\n",
       "      <td>Account Executive - Washington DC</td>\n",
       "      <td>US, DC, Washington</td>\n",
       "      <td>Sales</td>\n",
       "      <td>Our passion for improving quality of life thro...</td>\n",
       "      <td>THE COMPANY: ESRI – Environmental Systems Rese...</td>\n",
       "      <td>EDUCATION: Bachelor’s or Master’s in GIS, busi...</td>\n",
       "      <td>1</td>\n",
       "      <td>Full-time</td>\n",
       "      <td>Mid-Senior level</td>\n",
       "      <td>Bachelor's Degree</td>\n",
       "      <td>Computer Software</td>\n",
       "      <td>Sales</td>\n",
       "      <td>0</td>\n",
       "    </tr>\n",
       "    <tr>\n",
       "      <th>4</th>\n",
       "      <td>5</td>\n",
       "      <td>Bill Review Manager</td>\n",
       "      <td>US, FL, Fort Worth</td>\n",
       "      <td>not specified</td>\n",
       "      <td>SpotSource Solutions LLC is a Global Human Cap...</td>\n",
       "      <td>JOB TITLE: Itemization Review ManagerLOCATION:...</td>\n",
       "      <td>QUALIFICATIONS:RN license in the State of Texa...</td>\n",
       "      <td>1</td>\n",
       "      <td>Full-time</td>\n",
       "      <td>Mid-Senior level</td>\n",
       "      <td>Bachelor's Degree</td>\n",
       "      <td>Hospital &amp; Health Care</td>\n",
       "      <td>Health Care Provider</td>\n",
       "      <td>0</td>\n",
       "    </tr>\n",
       "  </tbody>\n",
       "</table>\n",
       "</div>"
      ],
      "text/plain": [
       "   job_id                                      title            location  \\\n",
       "0       1                           Marketing Intern    US, NY, New York   \n",
       "1       2  Customer Service - Cloud Video Production      NZ, , Auckland   \n",
       "2       3    Commissioning Machinery Assistant (CMA)       US, IA, Wever   \n",
       "3       4          Account Executive - Washington DC  US, DC, Washington   \n",
       "4       5                        Bill Review Manager  US, FL, Fort Worth   \n",
       "\n",
       "      department                                    company_profile  \\\n",
       "0      Marketing  We're Food52, and we've created a groundbreaki...   \n",
       "1        Success  90 Seconds, the worlds Cloud Video Production ...   \n",
       "2  not specified  Valor Services provides Workforce Solutions th...   \n",
       "3          Sales  Our passion for improving quality of life thro...   \n",
       "4  not specified  SpotSource Solutions LLC is a Global Human Cap...   \n",
       "\n",
       "                                         description  \\\n",
       "0  Food52, a fast-growing, James Beard Award-winn...   \n",
       "1  Organised - Focused - Vibrant - Awesome!Do you...   \n",
       "2  Our client, located in Houston, is actively se...   \n",
       "3  THE COMPANY: ESRI – Environmental Systems Rese...   \n",
       "4  JOB TITLE: Itemization Review ManagerLOCATION:...   \n",
       "\n",
       "                                        requirements  has_company_logo  \\\n",
       "0  Experience with content management systems a m...                 1   \n",
       "1  What we expect from you:Your key responsibilit...                 1   \n",
       "2  Implement pre-commissioning and commissioning ...                 1   \n",
       "3  EDUCATION: Bachelor’s or Master’s in GIS, busi...                 1   \n",
       "4  QUALIFICATIONS:RN license in the State of Texa...                 1   \n",
       "\n",
       "  employment_type required_experience required_education  \\\n",
       "0           Other          Internship      not specified   \n",
       "1       Full-time      Not Applicable      not specified   \n",
       "2   not specified       not specified      not specified   \n",
       "3       Full-time    Mid-Senior level  Bachelor's Degree   \n",
       "4       Full-time    Mid-Senior level  Bachelor's Degree   \n",
       "\n",
       "                    industry              function  fraudulent  \n",
       "0              not specified             Marketing           0  \n",
       "1  Marketing and Advertising      Customer Service           0  \n",
       "2              not specified         not specified           0  \n",
       "3          Computer Software                 Sales           0  \n",
       "4     Hospital & Health Care  Health Care Provider           0  "
      ]
     },
     "execution_count": 9,
     "metadata": {},
     "output_type": "execute_result"
    }
   ],
   "source": [
    "data.head()"
   ]
  },
  {
   "cell_type": "code",
   "execution_count": 10,
   "metadata": {
    "id": "rh2UJ76w5g_o",
    "outputId": "bf9f2ade-41b7-4b81-a27a-5a1f5822bcd9"
   },
   "outputs": [
    {
     "data": {
      "text/plain": [
       "Index(['job_id', 'title', 'location', 'department', 'company_profile',\n",
       "       'description', 'requirements', 'has_company_logo', 'employment_type',\n",
       "       'required_experience', 'required_education', 'industry', 'function',\n",
       "       'fraudulent'],\n",
       "      dtype='object')"
      ]
     },
     "execution_count": 10,
     "metadata": {},
     "output_type": "execute_result"
    }
   ],
   "source": [
    "data.columns"
   ]
  },
  {
   "cell_type": "code",
   "execution_count": 11,
   "metadata": {
    "id": "JIkb7YhX5g_p",
    "outputId": "a6f4935e-38bf-4cca-e378-3b4cedd8e0df"
   },
   "outputs": [
    {
     "name": "stdout",
     "output_type": "stream",
     "text": [
      "Data set:\n",
      "Feature 'title' has 11231 categories\n",
      "Feature 'location' has 3107 categories\n",
      "Feature 'department' has 1338 categories\n",
      "Feature 'company_profile' has 1711 categories\n",
      "Feature 'description' has 14803 categories\n",
      "Feature 'requirements' has 11968 categories\n",
      "Feature 'employment_type' has 6 categories\n",
      "Feature 'required_experience' has 8 categories\n",
      "Feature 'required_education' has 14 categories\n",
      "Feature 'industry' has 132 categories\n",
      "Feature 'function' has 38 categories\n",
      "\n"
     ]
    }
   ],
   "source": [
    "print('Data set:')\n",
    "for col_name in data.columns:\n",
    "    if data[col_name].dtypes == 'object' :\n",
    "        unique_cat = len(data[col_name].unique())\n",
    "        print(\"Feature '{col_name}' has {unique_cat} categories\".format(col_name=col_name, unique_cat=unique_cat))\n",
    "\n",
    "print()"
   ]
  },
  {
   "cell_type": "code",
   "execution_count": 12,
   "metadata": {
    "id": "GtqHj7og5g_p"
   },
   "outputs": [],
   "source": [
    "df = data[['title', 'location','company_profile', 'requirements', 'employment_type',\n",
    "       'required_experience', 'required_education', 'industry', 'function',\n",
    "       'fraudulent']]"
   ]
  },
  {
   "cell_type": "code",
   "execution_count": 13,
   "metadata": {
    "id": "Ymm0-iG95g_q",
    "outputId": "5487ca9f-58dc-46bd-fc0a-1b84bc254d03"
   },
   "outputs": [
    {
     "data": {
      "text/html": [
       "<div>\n",
       "<style scoped>\n",
       "    .dataframe tbody tr th:only-of-type {\n",
       "        vertical-align: middle;\n",
       "    }\n",
       "\n",
       "    .dataframe tbody tr th {\n",
       "        vertical-align: top;\n",
       "    }\n",
       "\n",
       "    .dataframe thead th {\n",
       "        text-align: right;\n",
       "    }\n",
       "</style>\n",
       "<table border=\"1\" class=\"dataframe\">\n",
       "  <thead>\n",
       "    <tr style=\"text-align: right;\">\n",
       "      <th></th>\n",
       "      <th>title</th>\n",
       "      <th>location</th>\n",
       "      <th>company_profile</th>\n",
       "      <th>requirements</th>\n",
       "      <th>employment_type</th>\n",
       "      <th>required_experience</th>\n",
       "      <th>required_education</th>\n",
       "      <th>industry</th>\n",
       "      <th>function</th>\n",
       "      <th>fraudulent</th>\n",
       "    </tr>\n",
       "  </thead>\n",
       "  <tbody>\n",
       "    <tr>\n",
       "      <th>False</th>\n",
       "      <td>17881</td>\n",
       "      <td>17881</td>\n",
       "      <td>17881</td>\n",
       "      <td>17881</td>\n",
       "      <td>17881</td>\n",
       "      <td>17881</td>\n",
       "      <td>17881</td>\n",
       "      <td>17881</td>\n",
       "      <td>17881</td>\n",
       "      <td>17881</td>\n",
       "    </tr>\n",
       "  </tbody>\n",
       "</table>\n",
       "</div>"
      ],
      "text/plain": [
       "       title  location  company_profile  requirements  employment_type  \\\n",
       "False  17881     17881            17881         17881            17881   \n",
       "\n",
       "       required_experience  required_education  industry  function  fraudulent  \n",
       "False                17881               17881     17881     17881       17881  "
      ]
     },
     "execution_count": 13,
     "metadata": {},
     "output_type": "execute_result"
    }
   ],
   "source": [
    "# Check if there is any null value\n",
    "df.isna().apply(pd.value_counts)"
   ]
  },
  {
   "cell_type": "code",
   "execution_count": 14,
   "metadata": {
    "id": "PW2xmNQf5g_q",
    "outputId": "9184e7aa-f0e6-4817-b99e-831e23922530"
   },
   "outputs": [
    {
     "data": {
      "text/plain": [
       "title                  0\n",
       "location               0\n",
       "company_profile        0\n",
       "requirements           0\n",
       "employment_type        0\n",
       "required_experience    0\n",
       "required_education     0\n",
       "industry               0\n",
       "function               0\n",
       "fraudulent             0\n",
       "dtype: int64"
      ]
     },
     "execution_count": 14,
     "metadata": {},
     "output_type": "execute_result"
    }
   ],
   "source": [
    "#Check for number of null values\n",
    "df.isnull().sum()"
   ]
  },
  {
   "cell_type": "code",
   "execution_count": 15,
   "metadata": {
    "id": "BADyxAlo5g_r"
   },
   "outputs": [],
   "source": [
    "df_num = df[['fraudulent']]\n",
    "df_cat = df[['title', 'location','company_profile', 'requirements','employment_type',\n",
    "       'required_experience', 'required_education', 'industry', 'function']]"
   ]
  },
  {
   "cell_type": "code",
   "execution_count": 16,
   "metadata": {
    "id": "OVw3_3EU5g_r",
    "outputId": "baa95fdf-8d53-469e-cffc-62eb15878271"
   },
   "outputs": [
    {
     "data": {
      "image/png": "[encoded data removed]",
      "text/plain": [
       "<Figure size 1600x800 with 1 Axes>"
      ]
     },
     "metadata": {},
     "output_type": "display_data"
    }
   ],
   "source": [
    "# Checking for Outliers in numerical data\n",
    "plt.figure(figsize=[16,8])\n",
    "sns.boxplot(data = df_num)\n",
    "plt.show()"
   ]
  },
  {
   "cell_type": "code",
   "execution_count": 17,
   "metadata": {
    "id": "xUBpXlmP5g_r"
   },
   "outputs": [],
   "source": [
    "#Removing Outliers from columns\n",
    "df_num = df_num[df_num['fraudulent'] < 0.9 ]"
   ]
  },
  {
   "cell_type": "code",
   "execution_count": 18,
   "metadata": {
    "id": "UdVccv4W5g_s",
    "outputId": "116c4231-1b45-4e72-e9a1-bf4f24277388"
   },
   "outputs": [
    {
     "data": {
      "text/plain": [
       "(17881, 10)"
      ]
     },
     "execution_count": 18,
     "metadata": {},
     "output_type": "execute_result"
    }
   ],
   "source": [
    "df.shape"
   ]
  },
  {
   "cell_type": "code",
   "execution_count": 19,
   "metadata": {
    "id": "P-OVislu5g_s",
    "outputId": "5ca517d0-7b79-41d1-82d4-2a78a7dea2ab"
   },
   "outputs": [],
   "source": [
    "#fig, axes = plt.subplots(ncols=2, figsize=(17, 5), dpi=100)\n",
    "#plt.tight_layout()\n",
    "\n",
    "#df[\"fraudulent\"].value_counts().plot(kind='pie', ax=axes[0], labels=['Real Post (95%)', 'Fake Post (5%)'])\n",
    "#temp = df[\"fraudulent\"].value_counts()\n",
    "#sns.barplot(temp.index, temp, ax=axes[1])\n",
    "\n",
    "#axes[0].set_ylabel(' ')\n",
    "#axes[1].set_ylabel(' ')\n",
    "#axes[1].set_xticklabels([\"Real Post (17014) [0's]\", \"Fake Post (866) [1's]\"])\n",
    "\n",
    "#axes[0].set_title('Target Distribution in Dataset', fontsize=13)\n",
    "#axes[1].set_title('Target Count in Dataset', fontsize=13)\n",
    "\n",
    "#plt.show()"
   ]
  },
  {
   "cell_type": "code",
   "execution_count": 20,
   "metadata": {
    "id": "0HFI8RnT5g_t",
    "outputId": "1866fd47-1118-4556-ae57-bdf045c29e2b"
   },
   "outputs": [
    {
     "name": "stderr",
     "output_type": "stream",
     "text": [
      "C:\\Users\\madhu\\AppData\\Local\\Temp\\ipykernel_15468\\2633321715.py:17: UserWarning: FixedFormatter should only be used together with FixedLocator\n",
      "  ax.set_yticklabels(ylabels,  fontsize=10)\n",
      "C:\\Users\\madhu\\AppData\\Local\\Temp\\ipykernel_15468\\2633321715.py:17: UserWarning: FixedFormatter should only be used together with FixedLocator\n",
      "  ax.set_yticklabels(ylabels,  fontsize=10)\n",
      "C:\\Users\\madhu\\AppData\\Local\\Temp\\ipykernel_15468\\2633321715.py:17: UserWarning: FixedFormatter should only be used together with FixedLocator\n",
      "  ax.set_yticklabels(ylabels,  fontsize=10)\n",
      "posx and posy should be finite values\n",
      "posx and posy should be finite values\n",
      "posx and posy should be finite values\n",
      "posx and posy should be finite values\n",
      "posx and posy should be finite values\n",
      "posx and posy should be finite values\n"
     ]
    },
    {
     "data": {
      "image/png": "[encoded data removed]",
      "text/plain": [
       "<Figure size 1500x2500 with 3 Axes>"
      ]
     },
     "metadata": {},
     "output_type": "display_data"
    }
   ],
   "source": [
    "cat_cols = [\"employment_type\", \"required_experience\", \"required_education\",]\n",
    "# visualizating catagorical variable by target\n",
    "import matplotlib.gridspec as gridspec # to do the grid of plots\n",
    "grid = gridspec.GridSpec(3, 3, wspace=0.5, hspace=0.5) # The grid of chart\n",
    "plt.figure(figsize=(15,25)) # size of figure\n",
    "\n",
    "# loop to get column and the count of plots\n",
    "for n, col in enumerate(df[cat_cols]): \n",
    "    ax = plt.subplot(grid[n]) # feeding the figure of grid\n",
    "    sns.countplot(x=col, data=df, hue='fraudulent', palette='Set2') \n",
    "    ax.set_ylabel('Count', fontsize=12) # y axis label\n",
    "    ax.set_title(f'{col} Distribution by Target', fontsize=15) # title label\n",
    "    ax.set_xlabel(f'{col} values', fontsize=12) # x axis label\n",
    "    xlabels = ax.get_xticklabels() \n",
    "    ylabels = ax.get_yticklabels() \n",
    "    ax.set_xticklabels(xlabels,  fontsize=10)\n",
    "    ax.set_yticklabels(ylabels,  fontsize=10)\n",
    "    plt.legend(fontsize=8)\n",
    "    plt.xticks(rotation=90) \n",
    "    total = len(df)\n",
    "    sizes=[] # Get highest values in y\n",
    "    for p in ax.patches: # loop to all objects\n",
    "        height = p.get_height()\n",
    "        sizes.append(height)\n",
    "        ax.text(p.get_x()+p.get_width()/2.,\n",
    "                height + 3,\n",
    "                '{:1.2f}%'.format(height/total*100),\n",
    "                ha=\"center\", fontsize=10) \n",
    "    ax.set_ylim(0, max(sizes) * 1.15) #set y limit based on highest heights\n",
    "\n",
    "\n",
    "plt.show()"
   ]
  },
  {
   "cell_type": "code",
   "execution_count": 21,
   "metadata": {
    "id": "xfM3AaFt5g_t",
    "outputId": "6cc12c53-ecd5-4e2b-8dff-b7da7aa26836"
   },
   "outputs": [
    {
     "data": {
      "image/png": "[encoded data removed]",
      "text/plain": [
       "<Figure size 1700x500 with 2 Axes>"
      ]
     },
     "metadata": {},
     "output_type": "display_data"
    }
   ],
   "source": [
    "fig,(ax1,ax2)= plt.subplots(ncols=2, figsize=(17, 5), dpi=100)\n",
    "length=df[df[\"fraudulent\"]==1]['requirements'].str.len()\n",
    "ax1.hist(length,bins = 20,color='orangered')\n",
    "ax1.set_title('Fake Post')\n",
    "length=df[df[\"fraudulent\"]==0]['requirements'].str.len()\n",
    "ax2.hist(length, bins = 20)\n",
    "ax2.set_title('Real Post')\n",
    "fig.suptitle('Characters in description')\n",
    "plt.show()"
   ]
  },
  {
   "cell_type": "code",
   "execution_count": 22,
   "metadata": {
    "id": "MAsmg4Ay5g_t",
    "outputId": "75d9cdd4-0384-4855-a227-acad68542723"
   },
   "outputs": [
    {
     "data": {
      "image/png": "[encoded data removed]",
      "text/plain": [
       "<Figure size 1700x500 with 2 Axes>"
      ]
     },
     "metadata": {},
     "output_type": "display_data"
    }
   ],
   "source": [
    "fig,(ax1,ax2)= plt.subplots(ncols=2, figsize=(17, 5), dpi=100)\n",
    "num=df[df[\"fraudulent\"]==1]['company_profile'].str.split().map(lambda x: len(x))\n",
    "ax1.hist(num,bins = 20,color='orangered')\n",
    "ax1.set_title('Fake Post')\n",
    "num=df[df[\"fraudulent\"]==0]['company_profile'].str.split().map(lambda x: len(x))\n",
    "ax2.hist(num, bins = 20)\n",
    "ax2.set_title('Real Post')\n",
    "fig.suptitle('Words in company profile')\n",
    "plt.show()"
   ]
  },
  {
   "cell_type": "code",
   "execution_count": 23,
   "metadata": {
    "id": "Uwy6fmcv5g_u",
    "outputId": "5d16c001-610d-42c1-9713-9a05c6e1814f"
   },
   "outputs": [
    {
     "data": {
      "text/plain": [
       "array([0, 0, 0, ..., 0, 0, 0], dtype=int64)"
      ]
     },
     "execution_count": 23,
     "metadata": {},
     "output_type": "execute_result"
    }
   ],
   "source": [
    "df['fraudulent'].values"
   ]
  },
  {
   "cell_type": "code",
   "execution_count": 24,
   "metadata": {
    "id": "yXCeo8OS5g_u",
    "outputId": "2ea34393-abe3-4b3d-df87-c362efeb5fac"
   },
   "outputs": [
    {
     "data": {
      "text/plain": [
       "(866, 10)"
      ]
     },
     "execution_count": 24,
     "metadata": {},
     "output_type": "execute_result"
    }
   ],
   "source": [
    "fraud = df[df['fraudulent']== 1]\n",
    "fraud.shape"
   ]
  },
  {
   "cell_type": "code",
   "execution_count": 25,
   "metadata": {
    "id": "r14pB4HQ5g_u",
    "outputId": "4f4c54f3-3cef-41cb-87f9-a584405dff0c"
   },
   "outputs": [
    {
     "data": {
      "text/plain": [
       "(17015, 10)"
      ]
     },
     "execution_count": 25,
     "metadata": {},
     "output_type": "execute_result"
    }
   ],
   "source": [
    "not_fraud = df[df['fraudulent']== 0]\n",
    "not_fraud.shape"
   ]
  },
  {
   "cell_type": "code",
   "execution_count": 26,
   "metadata": {
    "id": "q7n-5D7o5g_v",
    "outputId": "83076b32-9434-4239-ab01-c7db97a455f5"
   },
   "outputs": [
    {
     "data": {
      "text/plain": [
       "((1403, 10), (17015, 10))"
      ]
     },
     "execution_count": 26,
     "metadata": {},
     "output_type": "execute_result"
    }
   ],
   "source": [
    "fraud = fraud.sample(1403, replace=True)\n",
    "fraud.shape, not_fraud.shape"
   ]
  },
  {
   "cell_type": "code",
   "execution_count": 27,
   "metadata": {
    "id": "cRBQDvpw5g_v",
    "outputId": "49569983-391c-41ab-ecb8-5f1b0ca29e22"
   },
   "outputs": [
    {
     "name": "stderr",
     "output_type": "stream",
     "text": [
      "C:\\Users\\madhu\\AppData\\Local\\Temp\\ipykernel_15468\\3513025948.py:1: FutureWarning: The frame.append method is deprecated and will be removed from pandas in a future version. Use pandas.concat instead.\n",
      "  df = fraud.append(not_fraud)\n"
     ]
    },
    {
     "data": {
      "text/html": [
       "<div>\n",
       "<style scoped>\n",
       "    .dataframe tbody tr th:only-of-type {\n",
       "        vertical-align: middle;\n",
       "    }\n",
       "\n",
       "    .dataframe tbody tr th {\n",
       "        vertical-align: top;\n",
       "    }\n",
       "\n",
       "    .dataframe thead th {\n",
       "        text-align: right;\n",
       "    }\n",
       "</style>\n",
       "<table border=\"1\" class=\"dataframe\">\n",
       "  <thead>\n",
       "    <tr style=\"text-align: right;\">\n",
       "      <th></th>\n",
       "      <th>index</th>\n",
       "      <th>title</th>\n",
       "      <th>location</th>\n",
       "      <th>company_profile</th>\n",
       "      <th>requirements</th>\n",
       "      <th>employment_type</th>\n",
       "      <th>required_experience</th>\n",
       "      <th>required_education</th>\n",
       "      <th>industry</th>\n",
       "      <th>function</th>\n",
       "      <th>fraudulent</th>\n",
       "    </tr>\n",
       "  </thead>\n",
       "  <tbody>\n",
       "    <tr>\n",
       "      <th>0</th>\n",
       "      <td>17755</td>\n",
       "      <td>Administrative Clerk</td>\n",
       "      <td>US, ,</td>\n",
       "      <td>none</td>\n",
       "      <td>Positive attitude, Excellent telephone skills,...</td>\n",
       "      <td>Full-time</td>\n",
       "      <td>Not Applicable</td>\n",
       "      <td>Unspecified</td>\n",
       "      <td>Business Supplies and Equipment</td>\n",
       "      <td>Administrative</td>\n",
       "      <td>1</td>\n",
       "    </tr>\n",
       "    <tr>\n",
       "      <th>1</th>\n",
       "      <td>17671</td>\n",
       "      <td>Home Based Payroll Typist/Data Entry Clerks Po...</td>\n",
       "      <td>US, MS, Aberdeen</td>\n",
       "      <td>none</td>\n",
       "      <td>Basic computer and typing skills, ability to s...</td>\n",
       "      <td>not specified</td>\n",
       "      <td>not specified</td>\n",
       "      <td>not specified</td>\n",
       "      <td>not specified</td>\n",
       "      <td>not specified</td>\n",
       "      <td>1</td>\n",
       "    </tr>\n",
       "    <tr>\n",
       "      <th>2</th>\n",
       "      <td>17819</td>\n",
       "      <td>Data Entry</td>\n",
       "      <td>US, MD, Baltimore</td>\n",
       "      <td>none</td>\n",
       "      <td>not specified</td>\n",
       "      <td>Full-time</td>\n",
       "      <td>Entry level</td>\n",
       "      <td>Unspecified</td>\n",
       "      <td>Hospital &amp; Health Care</td>\n",
       "      <td>Administrative</td>\n",
       "      <td>1</td>\n",
       "    </tr>\n",
       "    <tr>\n",
       "      <th>3</th>\n",
       "      <td>1867</td>\n",
       "      <td>SURF (Subsea Umbilical Riser Flowline) Develop...</td>\n",
       "      <td>US, TX, Houston</td>\n",
       "      <td>Aker Solutions is a global provider of product...</td>\n",
       "      <td>Qualifications &amp;amp; personal attributes- Bach...</td>\n",
       "      <td>Full-time</td>\n",
       "      <td>Mid-Senior level</td>\n",
       "      <td>Bachelor's Degree</td>\n",
       "      <td>Oil &amp; Energy</td>\n",
       "      <td>Engineering</td>\n",
       "      <td>1</td>\n",
       "    </tr>\n",
       "    <tr>\n",
       "      <th>4</th>\n",
       "      <td>6961</td>\n",
       "      <td>Food and Beverage Manager</td>\n",
       "      <td>MY, ,</td>\n",
       "      <td>none</td>\n",
       "      <td>Skills Required:    * Budgeting, planning and ...</td>\n",
       "      <td>not specified</td>\n",
       "      <td>not specified</td>\n",
       "      <td>not specified</td>\n",
       "      <td>not specified</td>\n",
       "      <td>not specified</td>\n",
       "      <td>1</td>\n",
       "    </tr>\n",
       "    <tr>\n",
       "      <th>...</th>\n",
       "      <td>...</td>\n",
       "      <td>...</td>\n",
       "      <td>...</td>\n",
       "      <td>...</td>\n",
       "      <td>...</td>\n",
       "      <td>...</td>\n",
       "      <td>...</td>\n",
       "      <td>...</td>\n",
       "      <td>...</td>\n",
       "      <td>...</td>\n",
       "      <td>...</td>\n",
       "    </tr>\n",
       "    <tr>\n",
       "      <th>18413</th>\n",
       "      <td>17876</td>\n",
       "      <td>Payroll Accountant</td>\n",
       "      <td>US, PA, Philadelphia</td>\n",
       "      <td>WebLinc is the e-commerce platform and service...</td>\n",
       "      <td>- B.A. or B.S. in Accounting- Desire to have f...</td>\n",
       "      <td>Full-time</td>\n",
       "      <td>Mid-Senior level</td>\n",
       "      <td>Bachelor's Degree</td>\n",
       "      <td>Internet</td>\n",
       "      <td>Accounting/Auditing</td>\n",
       "      <td>0</td>\n",
       "    </tr>\n",
       "    <tr>\n",
       "      <th>18414</th>\n",
       "      <td>17877</td>\n",
       "      <td>Project Cost Control Staff Engineer - Cost Con...</td>\n",
       "      <td>US, TX, Houston</td>\n",
       "      <td>We Provide Full Time Permanent Positions for m...</td>\n",
       "      <td>At least 12 years professional experience.Abil...</td>\n",
       "      <td>Full-time</td>\n",
       "      <td>not specified</td>\n",
       "      <td>not specified</td>\n",
       "      <td>not specified</td>\n",
       "      <td>not specified</td>\n",
       "      <td>0</td>\n",
       "    </tr>\n",
       "    <tr>\n",
       "      <th>18415</th>\n",
       "      <td>17878</td>\n",
       "      <td>Graphic Designer</td>\n",
       "      <td>NG, LA, Lagos</td>\n",
       "      <td>none</td>\n",
       "      <td>1. Must be fluent in the latest versions of Co...</td>\n",
       "      <td>Contract</td>\n",
       "      <td>Not Applicable</td>\n",
       "      <td>Professional</td>\n",
       "      <td>Graphic Design</td>\n",
       "      <td>Design</td>\n",
       "      <td>0</td>\n",
       "    </tr>\n",
       "    <tr>\n",
       "      <th>18416</th>\n",
       "      <td>17879</td>\n",
       "      <td>Web Application Developers</td>\n",
       "      <td>NZ, N, Wellington</td>\n",
       "      <td>Vend is looking for some awesome new talent to...</td>\n",
       "      <td>We want to hear from you if:You have an in-dep...</td>\n",
       "      <td>Full-time</td>\n",
       "      <td>Mid-Senior level</td>\n",
       "      <td>not specified</td>\n",
       "      <td>Computer Software</td>\n",
       "      <td>Engineering</td>\n",
       "      <td>0</td>\n",
       "    </tr>\n",
       "    <tr>\n",
       "      <th>18417</th>\n",
       "      <td>17880</td>\n",
       "      <td>Junior Software Developer</td>\n",
       "      <td>Shimoga,India</td>\n",
       "      <td>Freshersworld is one of the thought leaders in...</td>\n",
       "      <td>The ideal applicant will be a results-oriented...</td>\n",
       "      <td>Full-time</td>\n",
       "      <td>Entry level</td>\n",
       "      <td>Bachelor's Degree</td>\n",
       "      <td>Information Technology and Services</td>\n",
       "      <td>Information Technology</td>\n",
       "      <td>0</td>\n",
       "    </tr>\n",
       "  </tbody>\n",
       "</table>\n",
       "<p>18418 rows × 11 columns</p>\n",
       "</div>"
      ],
      "text/plain": [
       "       index                                              title  \\\n",
       "0      17755                               Administrative Clerk   \n",
       "1      17671  Home Based Payroll Typist/Data Entry Clerks Po...   \n",
       "2      17819                                         Data Entry   \n",
       "3       1867  SURF (Subsea Umbilical Riser Flowline) Develop...   \n",
       "4       6961                          Food and Beverage Manager   \n",
       "...      ...                                                ...   \n",
       "18413  17876                                 Payroll Accountant   \n",
       "18414  17877  Project Cost Control Staff Engineer - Cost Con...   \n",
       "18415  17878                                   Graphic Designer   \n",
       "18416  17879                         Web Application Developers   \n",
       "18417  17880                          Junior Software Developer   \n",
       "\n",
       "                   location  \\\n",
       "0                    US, ,    \n",
       "1         US, MS, Aberdeen    \n",
       "2         US, MD, Baltimore   \n",
       "3           US, TX, Houston   \n",
       "4                    MY, ,    \n",
       "...                     ...   \n",
       "18413  US, PA, Philadelphia   \n",
       "18414       US, TX, Houston   \n",
       "18415         NG, LA, Lagos   \n",
       "18416     NZ, N, Wellington   \n",
       "18417         Shimoga,India   \n",
       "\n",
       "                                         company_profile  \\\n",
       "0                                                   none   \n",
       "1                                                   none   \n",
       "2                                                   none   \n",
       "3      Aker Solutions is a global provider of product...   \n",
       "4                                                   none   \n",
       "...                                                  ...   \n",
       "18413  WebLinc is the e-commerce platform and service...   \n",
       "18414  We Provide Full Time Permanent Positions for m...   \n",
       "18415                                               none   \n",
       "18416  Vend is looking for some awesome new talent to...   \n",
       "18417  Freshersworld is one of the thought leaders in...   \n",
       "\n",
       "                                            requirements employment_type  \\\n",
       "0      Positive attitude, Excellent telephone skills,...       Full-time   \n",
       "1      Basic computer and typing skills, ability to s...   not specified   \n",
       "2                                          not specified       Full-time   \n",
       "3      Qualifications &amp; personal attributes- Bach...       Full-time   \n",
       "4      Skills Required:    * Budgeting, planning and ...   not specified   \n",
       "...                                                  ...             ...   \n",
       "18413  - B.A. or B.S. in Accounting- Desire to have f...       Full-time   \n",
       "18414  At least 12 years professional experience.Abil...       Full-time   \n",
       "18415  1. Must be fluent in the latest versions of Co...        Contract   \n",
       "18416  We want to hear from you if:You have an in-dep...       Full-time   \n",
       "18417  The ideal applicant will be a results-oriented...       Full-time   \n",
       "\n",
       "      required_experience required_education  \\\n",
       "0          Not Applicable        Unspecified   \n",
       "1           not specified      not specified   \n",
       "2             Entry level        Unspecified   \n",
       "3        Mid-Senior level  Bachelor's Degree   \n",
       "4           not specified      not specified   \n",
       "...                   ...                ...   \n",
       "18413    Mid-Senior level  Bachelor's Degree   \n",
       "18414       not specified      not specified   \n",
       "18415      Not Applicable       Professional   \n",
       "18416    Mid-Senior level      not specified   \n",
       "18417         Entry level  Bachelor's Degree   \n",
       "\n",
       "                                  industry                function  fraudulent  \n",
       "0          Business Supplies and Equipment          Administrative           1  \n",
       "1                            not specified           not specified           1  \n",
       "2                   Hospital & Health Care          Administrative           1  \n",
       "3                             Oil & Energy             Engineering           1  \n",
       "4                            not specified           not specified           1  \n",
       "...                                    ...                     ...         ...  \n",
       "18413                             Internet     Accounting/Auditing           0  \n",
       "18414                        not specified           not specified           0  \n",
       "18415                       Graphic Design                  Design           0  \n",
       "18416                    Computer Software             Engineering           0  \n",
       "18417  Information Technology and Services  Information Technology           0  \n",
       "\n",
       "[18418 rows x 11 columns]"
      ]
     },
     "execution_count": 27,
     "metadata": {},
     "output_type": "execute_result"
    }
   ],
   "source": [
    "df = fraud.append(not_fraud)\n",
    "df.reset_index()"
   ]
  },
  {
   "cell_type": "code",
   "execution_count": 28,
   "metadata": {
    "id": "-IP9YQ_B5g_v"
   },
   "outputs": [],
   "source": [
    "from sklearn.preprocessing import LabelEncoder\n",
    "le = LabelEncoder()\n",
    "df['title'] = le.fit_transform(df['title'])\n",
    "df['location'] = le.fit_transform(df['location'])\n",
    "df['company_profile'] = le.fit_transform(df['company_profile'])\n",
    "df['requirements'] = le.fit_transform(df['requirements'])\n",
    "df['employment_type'] = le.fit_transform(df['employment_type'])\n",
    "df['required_experience'] = le.fit_transform(df['required_experience'])\n",
    "df['required_education'] = le.fit_transform(df['required_education'])\n",
    "df['industry'] = le.fit_transform(df['industry'])\n",
    "df['function'] = le.fit_transform(df['function'])"
   ]
  },
  {
   "cell_type": "code",
   "execution_count": 29,
   "metadata": {
    "id": "zuwXTL1W5g_w",
    "outputId": "8a422ebe-e9cd-4e09-c819-e6a20c258659"
   },
   "outputs": [
    {
     "data": {
      "text/html": [
       "<div>\n",
       "<style scoped>\n",
       "    .dataframe tbody tr th:only-of-type {\n",
       "        vertical-align: middle;\n",
       "    }\n",
       "\n",
       "    .dataframe tbody tr th {\n",
       "        vertical-align: top;\n",
       "    }\n",
       "\n",
       "    .dataframe thead th {\n",
       "        text-align: right;\n",
       "    }\n",
       "</style>\n",
       "<table border=\"1\" class=\"dataframe\">\n",
       "  <thead>\n",
       "    <tr style=\"text-align: right;\">\n",
       "      <th></th>\n",
       "      <th>index</th>\n",
       "      <th>title</th>\n",
       "      <th>location</th>\n",
       "      <th>company_profile</th>\n",
       "      <th>requirements</th>\n",
       "      <th>employment_type</th>\n",
       "      <th>required_experience</th>\n",
       "      <th>required_education</th>\n",
       "      <th>industry</th>\n",
       "      <th>function</th>\n",
       "      <th>fraudulent</th>\n",
       "    </tr>\n",
       "  </thead>\n",
       "  <tbody>\n",
       "    <tr>\n",
       "      <th>0</th>\n",
       "      <td>17755</td>\n",
       "      <td>462</td>\n",
       "      <td>1246</td>\n",
       "      <td>1669</td>\n",
       "      <td>6157</td>\n",
       "      <td>1</td>\n",
       "      <td>6</td>\n",
       "      <td>9</td>\n",
       "      <td>12</td>\n",
       "      <td>1</td>\n",
       "      <td>1</td>\n",
       "    </tr>\n",
       "    <tr>\n",
       "      <th>1</th>\n",
       "      <td>17671</td>\n",
       "      <td>4426</td>\n",
       "      <td>2254</td>\n",
       "      <td>1669</td>\n",
       "      <td>2363</td>\n",
       "      <td>5</td>\n",
       "      <td>7</td>\n",
       "      <td>13</td>\n",
       "      <td>131</td>\n",
       "      <td>37</td>\n",
       "      <td>1</td>\n",
       "    </tr>\n",
       "    <tr>\n",
       "      <th>2</th>\n",
       "      <td>17819</td>\n",
       "      <td>2407</td>\n",
       "      <td>2078</td>\n",
       "      <td>1669</td>\n",
       "      <td>11426</td>\n",
       "      <td>1</td>\n",
       "      <td>2</td>\n",
       "      <td>9</td>\n",
       "      <td>51</td>\n",
       "      <td>1</td>\n",
       "      <td>1</td>\n",
       "    </tr>\n",
       "    <tr>\n",
       "      <th>3</th>\n",
       "      <td>1867</td>\n",
       "      <td>8270</td>\n",
       "      <td>2842</td>\n",
       "      <td>125</td>\n",
       "      <td>6543</td>\n",
       "      <td>1</td>\n",
       "      <td>5</td>\n",
       "      <td>1</td>\n",
       "      <td>88</td>\n",
       "      <td>12</td>\n",
       "      <td>1</td>\n",
       "    </tr>\n",
       "    <tr>\n",
       "      <th>4</th>\n",
       "      <td>6961</td>\n",
       "      <td>3595</td>\n",
       "      <td>1028</td>\n",
       "      <td>1669</td>\n",
       "      <td>8334</td>\n",
       "      <td>5</td>\n",
       "      <td>7</td>\n",
       "      <td>13</td>\n",
       "      <td>131</td>\n",
       "      <td>37</td>\n",
       "      <td>1</td>\n",
       "    </tr>\n",
       "  </tbody>\n",
       "</table>\n",
       "</div>"
      ],
      "text/plain": [
       "   index  title  location  company_profile  requirements  employment_type  \\\n",
       "0  17755    462      1246             1669          6157                1   \n",
       "1  17671   4426      2254             1669          2363                5   \n",
       "2  17819   2407      2078             1669         11426                1   \n",
       "3   1867   8270      2842              125          6543                1   \n",
       "4   6961   3595      1028             1669          8334                5   \n",
       "\n",
       "   required_experience  required_education  industry  function  fraudulent  \n",
       "0                    6                   9        12         1           1  \n",
       "1                    7                  13       131        37           1  \n",
       "2                    2                   9        51         1           1  \n",
       "3                    5                   1        88        12           1  \n",
       "4                    7                  13       131        37           1  "
      ]
     },
     "execution_count": 29,
     "metadata": {},
     "output_type": "execute_result"
    }
   ],
   "source": [
    "df = df.reset_index()\n",
    "df.head()"
   ]
  },
  {
   "cell_type": "code",
   "execution_count": 30,
   "metadata": {
    "id": "dOARjg5P5g_w"
   },
   "outputs": [],
   "source": [
    "from sklearn.model_selection import train_test_split\n",
    "\n",
    "X = df[['index', 'title', 'location', 'company_profile', 'requirements',\n",
    "       'employment_type','required_experience', 'required_education', 'industry', 'function']].values\n",
    "Y = df[['fraudulent']].values\n"
   ]
  },
  {
   "cell_type": "code",
   "execution_count": 31,
   "metadata": {
    "id": "OrsK8bUB5g_w"
   },
   "outputs": [],
   "source": [
    "X_train, X_test, Y_train, Y_test = train_test_split(X, Y)"
   ]
  },
  {
   "cell_type": "code",
   "execution_count": 32,
   "metadata": {
    "id": "FKIT32RD5g_x",
    "outputId": "c105b247-e371-4b20-e155-fda2e547121f"
   },
   "outputs": [
    {
     "data": {
      "text/plain": [
       "((13813, 10), (4605, 10), (13813, 1), (4605, 1))"
      ]
     },
     "execution_count": 32,
     "metadata": {},
     "output_type": "execute_result"
    }
   ],
   "source": [
    "X_train.shape, X_test.shape, Y_train.shape, Y_test.shape"
   ]
  },
  {
   "cell_type": "code",
   "execution_count": 33,
   "metadata": {
    "id": "NvrUKgnG5g_x"
   },
   "outputs": [],
   "source": [
    "from sklearn.linear_model import LogisticRegression\n",
    "from sklearn.ensemble import RandomForestClassifier\n",
    "from sklearn.svm import SVC\n",
    "from sklearn.tree import DecisionTreeClassifier\n",
    "from sklearn.neighbors import KNeighborsClassifier\n",
    "from sklearn.naive_bayes import GaussianNB\n",
    "import sklearn.metrics as metrics\n",
    "from sklearn.metrics import accuracy_score"
   ]
  },
  {
   "cell_type": "code",
   "execution_count": 34,
   "metadata": {
    "id": "QjAa-25I5g_x"
   },
   "outputs": [],
   "source": [
    "import warnings\n",
    "warnings.filterwarnings('ignore')\n"
   ]
  },
  {
   "cell_type": "code",
   "execution_count": 35,
   "metadata": {
    "id": "mqmwp0yM5g_x",
    "outputId": "cac98f0b-426d-4d54-f4a3-a5999deac1f1"
   },
   "outputs": [
    {
     "name": "stdout",
     "output_type": "stream",
     "text": [
      "accuracy with Logistic Regression: 0.9261672095548317 %\n",
      "accuracy with Random Forest: 0.9921824104234528 %\n",
      "accuracy with Support Vector Machine: 0.9259500542888165 %\n",
      "accuracy with Decision Tree: 0.9839305103148751 %\n",
      "accuracy with K-Nearest Neighbors : 0.9426710097719869 %\n",
      "accuracy with Naive Bayes: 0.9307274701411509 %\n"
     ]
    }
   ],
   "source": [
    "### Logistic Regression\n",
    "\n",
    "clf=LogisticRegression()\n",
    "clf.fit(X_train, Y_train)\n",
    "preds=clf.predict(X_test)\n",
    "print('accuracy with Logistic Regression:',accuracy_score(Y_test, preds), '%')\n",
    "\n",
    "### Random Forest\n",
    "\n",
    "clf1=RandomForestClassifier()\n",
    "clf1.fit(X_train, Y_train)\n",
    "preds=clf1.predict(X_test)\n",
    "print('accuracy with Random Forest:',accuracy_score(Y_test, preds), '%')\n",
    "\n",
    "### Support Vector Machine\n",
    "\n",
    "clf=SVC()\n",
    "clf.fit(X_train, Y_train)\n",
    "preds=clf.predict(X_test)\n",
    "print('accuracy with Support Vector Machine:',accuracy_score(Y_test, preds), '%')\n",
    "\n",
    "### Decision Tree\n",
    "\n",
    "clf=DecisionTreeClassifier()\n",
    "clf.fit(X_train, Y_train)\n",
    "preds=clf.predict(X_test)\n",
    "print('accuracy with Decision Tree:',accuracy_score(Y_test, preds), '%')\n",
    "\n",
    "### K-Nearest Neighbors\n",
    "\n",
    "clf=KNeighborsClassifier()\n",
    "clf.fit(X_train, Y_train)\n",
    "preds=clf.predict(X_test)\n",
    "print('accuracy with K-Nearest Neighbors :',accuracy_score(Y_test, preds), '%')\n",
    "\n",
    "### Naive Bayes\n",
    "\n",
    "clf=GaussianNB()\n",
    "clf.fit(X_train, Y_train)\n",
    "preds=clf.predict(X_test)\n",
    "print('accuracy with Naive Bayes:',accuracy_score(Y_test, preds), '%')\n"
   ]
  },
  {
   "cell_type": "code",
   "execution_count": 36,
   "metadata": {
    "id": "JZhxNmXn5g_y",
    "outputId": "f2088fee-0216-41e1-c4e5-dbc1eb02d541"
   },
   "outputs": [
    {
     "name": "stdout",
     "output_type": "stream",
     "text": [
      "Job profile is fake\n"
     ]
    }
   ],
   "source": [
    "test_vector = np.reshape(np.asarray([17614,5362,1393,1669,11417,1,7,13,75,37]),(1,10))\n",
    "p = int(clf1.predict(test_vector)[0])\n",
    "\n",
    "if p==0:\n",
    "    print('Job profile is Real')\n",
    "else:\n",
    "    print('Job profile is fake')\n"
   ]
  },
  {
   "cell_type": "code",
   "execution_count": 37,
   "metadata": {
    "id": "GaqyI-5r5g_y"
   },
   "outputs": [
    {
     "name": "stdout",
     "output_type": "stream",
     "text": [
      "Job profile is Real\n"
     ]
    }
   ],
   "source": [
    "test_vector = np.reshape(np.asarray([17500,4362,1293,1009,10417,1,7,10,79,32]),(1,10))\n",
    "p = int(clf.predict(test_vector)[0])\n",
    "\n",
    "if p==0:\n",
    "    print('Job profile is Real')\n",
    "else:\n",
    "    print('Job profile is fake')\n"
   ]
  },
  {
   "cell_type": "code",
   "execution_count": 38,
   "metadata": {},
   "outputs": [
    {
     "data": {
      "text/html": [
       "<div>\n",
       "<style scoped>\n",
       "    .dataframe tbody tr th:only-of-type {\n",
       "        vertical-align: middle;\n",
       "    }\n",
       "\n",
       "    .dataframe tbody tr th {\n",
       "        vertical-align: top;\n",
       "    }\n",
       "\n",
       "    .dataframe thead th {\n",
       "        text-align: right;\n",
       "    }\n",
       "</style>\n",
       "<table border=\"1\" class=\"dataframe\">\n",
       "  <thead>\n",
       "    <tr style=\"text-align: right;\">\n",
       "      <th></th>\n",
       "      <th>index</th>\n",
       "      <th>title</th>\n",
       "      <th>location</th>\n",
       "      <th>company_profile</th>\n",
       "      <th>requirements</th>\n",
       "      <th>employment_type</th>\n",
       "      <th>required_experience</th>\n",
       "      <th>required_education</th>\n",
       "      <th>industry</th>\n",
       "      <th>function</th>\n",
       "      <th>fraudulent</th>\n",
       "    </tr>\n",
       "  </thead>\n",
       "  <tbody>\n",
       "    <tr>\n",
       "      <th>18413</th>\n",
       "      <td>17876</td>\n",
       "      <td>7054</td>\n",
       "      <td>2704</td>\n",
       "      <td>1542</td>\n",
       "      <td>148</td>\n",
       "      <td>1</td>\n",
       "      <td>5</td>\n",
       "      <td>1</td>\n",
       "      <td>61</td>\n",
       "      <td>0</td>\n",
       "      <td>0</td>\n",
       "    </tr>\n",
       "    <tr>\n",
       "      <th>18414</th>\n",
       "      <td>17877</td>\n",
       "      <td>7526</td>\n",
       "      <td>2842</td>\n",
       "      <td>1426</td>\n",
       "      <td>1781</td>\n",
       "      <td>1</td>\n",
       "      <td>7</td>\n",
       "      <td>13</td>\n",
       "      <td>131</td>\n",
       "      <td>37</td>\n",
       "      <td>0</td>\n",
       "    </tr>\n",
       "    <tr>\n",
       "      <th>18415</th>\n",
       "      <td>17878</td>\n",
       "      <td>4077</td>\n",
       "      <td>1041</td>\n",
       "      <td>1669</td>\n",
       "      <td>436</td>\n",
       "      <td>0</td>\n",
       "      <td>6</td>\n",
       "      <td>6</td>\n",
       "      <td>48</td>\n",
       "      <td>9</td>\n",
       "      <td>0</td>\n",
       "    </tr>\n",
       "    <tr>\n",
       "      <th>18416</th>\n",
       "      <td>17879</td>\n",
       "      <td>10825</td>\n",
       "      <td>1088</td>\n",
       "      <td>1387</td>\n",
       "      <td>10170</td>\n",
       "      <td>1</td>\n",
       "      <td>5</td>\n",
       "      <td>13</td>\n",
       "      <td>22</td>\n",
       "      <td>12</td>\n",
       "      <td>0</td>\n",
       "    </tr>\n",
       "    <tr>\n",
       "      <th>18417</th>\n",
       "      <td>17880</td>\n",
       "      <td>5370</td>\n",
       "      <td>1219</td>\n",
       "      <td>573</td>\n",
       "      <td>9172</td>\n",
       "      <td>1</td>\n",
       "      <td>2</td>\n",
       "      <td>1</td>\n",
       "      <td>58</td>\n",
       "      <td>18</td>\n",
       "      <td>0</td>\n",
       "    </tr>\n",
       "  </tbody>\n",
       "</table>\n",
       "</div>"
      ],
      "text/plain": [
       "       index  title  location  company_profile  requirements  employment_type  \\\n",
       "18413  17876   7054      2704             1542           148                1   \n",
       "18414  17877   7526      2842             1426          1781                1   \n",
       "18415  17878   4077      1041             1669           436                0   \n",
       "18416  17879  10825      1088             1387         10170                1   \n",
       "18417  17880   5370      1219              573          9172                1   \n",
       "\n",
       "       required_experience  required_education  industry  function  fraudulent  \n",
       "18413                    5                   1        61         0           0  \n",
       "18414                    7                  13       131        37           0  \n",
       "18415                    6                   6        48         9           0  \n",
       "18416                    5                  13        22        12           0  \n",
       "18417                    2                   1        58        18           0  "
      ]
     },
     "execution_count": 38,
     "metadata": {},
     "output_type": "execute_result"
    }
   ],
   "source": [
    "df.tail()"
   ]
  },
  {
   "cell_type": "code",
   "execution_count": 39,
   "metadata": {},
   "outputs": [
    {
     "data": {
      "text/plain": [
       "0        False\n",
       "1        False\n",
       "2        False\n",
       "3        False\n",
       "4        False\n",
       "         ...  \n",
       "18413    False\n",
       "18414    False\n",
       "18415    False\n",
       "18416    False\n",
       "18417     True\n",
       "Name: index, Length: 18418, dtype: bool"
      ]
     },
     "execution_count": 39,
     "metadata": {},
     "output_type": "execute_result"
    }
   ],
   "source": [
    "df['index']==17880"
   ]
  },
  {
   "cell_type": "code",
   "execution_count": 40,
   "metadata": {},
   "outputs": [
    {
     "data": {
      "text/plain": [
       "array([[17755,   462,  1246, ...,     9,    12,     1],\n",
       "       [17671,  4426,  2254, ...,    13,   131,    37],\n",
       "       [17819,  2407,  2078, ...,     9,    51,     1],\n",
       "       ...,\n",
       "       [17878,  4077,  1041, ...,     6,    48,     9],\n",
       "       [17879, 10825,  1088, ...,    13,    22,    12],\n",
       "       [17880,  5370,  1219, ...,     1,    58,    18]], dtype=int64)"
      ]
     },
     "execution_count": 40,
     "metadata": {},
     "output_type": "execute_result"
    }
   ],
   "source": [
    "X"
   ]
  },
  {
   "cell_type": "code",
   "execution_count": 41,
   "metadata": {},
   "outputs": [
    {
     "name": "stdout",
     "output_type": "stream",
     "text": [
      "Job profile is Real\n"
     ]
    }
   ],
   "source": [
    "test_vector = np.reshape(np.asarray([17880,5374,1220,574,9164,1,2,1,58,18]),(1,10))\n",
    "p = int(clf1.predict(test_vector)[0])\n",
    "\n",
    "if p==0:\n",
    "    print('Job profile is Real')\n",
    "else:\n",
    "    print('Job profile is fake')"
   ]
  }
 ],
 "metadata": {
  "colab": {
   "name": "fake_job_pred.ipynb",
   "provenance": []
  },
  "kernelspec": {
   "display_name": "Python 3 (ipykernel)",
   "language": "python",
   "name": "python3"
  },
  "language_info": {
   "codemirror_mode": {
    "name": "ipython",
    "version": 3
   },
   "file_extension": ".py",
   "mimetype": "text/x-python",
   "name": "python",
   "nbconvert_exporter": "python",
   "pygments_lexer": "ipython3",
   "version": "3.9.12"
  }
 },
 "nbformat": 4,
 "nbformat_minor": 1
}
